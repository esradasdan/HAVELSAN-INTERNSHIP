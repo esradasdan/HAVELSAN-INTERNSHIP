{
 "cells": [
  {
   "cell_type": "code",
   "execution_count": 1,
   "id": "ce637398",
   "metadata": {
    "_cell_guid": "b1076dfc-b9ad-4769-8c92-a6c4dae69d19",
    "_uuid": "8f2839f25d086af736a60e9eeb907d3b93b6e0e5",
    "execution": {
     "iopub.execute_input": "2023-07-31T11:54:58.443177Z",
     "iopub.status.busy": "2023-07-31T11:54:58.442756Z",
     "iopub.status.idle": "2023-07-31T11:55:02.880068Z",
     "shell.execute_reply": "2023-07-31T11:55:02.878858Z"
    },
    "papermill": {
     "duration": 4.449029,
     "end_time": "2023-07-31T11:55:02.882807",
     "exception": false,
     "start_time": "2023-07-31T11:54:58.433778",
     "status": "completed"
    },
    "tags": []
   },
   "outputs": [
    {
     "name": "stderr",
     "output_type": "stream",
     "text": [
      "/opt/conda/lib/python3.10/site-packages/scipy/__init__.py:146: UserWarning: A NumPy version >=1.16.5 and <1.23.0 is required for this version of SciPy (detected version 1.23.5\n",
      "  warnings.warn(f\"A NumPy version >={np_minversion} and <{np_maxversion}\"\n"
     ]
    },
    {
     "name": "stdout",
     "output_type": "stream",
     "text": [
      "/kaggle/input/mc90v-full/M2508_train_sensors.csv\n",
      "/kaggle/input/mc90v-full/M2508_test_sensors.csv\n",
      "/kaggle/input/mc90v-full/M2508_train_full.csv\n",
      "/kaggle/input/mc90v-full/M2503_test_full.csv\n",
      "/kaggle/input/mc90v-full/M2503_train_full.csv\n",
      "/kaggle/input/mc90v-full/M0000_test_sensors.csv\n",
      "/kaggle/input/mc90v-full/M2503_train_sensors.csv\n",
      "/kaggle/input/mc90v-full/M2506_test_full.csv\n",
      "/kaggle/input/mc90v-full/M0000_train_full.csv\n",
      "/kaggle/input/mc90v-full/M0000_test_full.csv\n",
      "/kaggle/input/mc90v-full/M2506_train_sensors.csv\n",
      "/kaggle/input/mc90v-full/M2506_train_full.csv\n",
      "/kaggle/input/mc90v-full/M2503_test_sensors.csv\n",
      "/kaggle/input/mc90v-full/M0000_train_sensors.csv\n",
      "/kaggle/input/mc90v-full/M2506_test_sensors.csv\n",
      "/kaggle/input/mc90v-full/M2508_test_full.csv\n"
     ]
    }
   ],
   "source": [
    "import numpy as np # linear algebra\n",
    "import pandas as pd # data processing, CSV file I/O (e.g. pd.read_csv)\n",
    "import matplotlib.pyplot as plt\n",
    "from sklearn.preprocessing import MinMaxScaler \n",
    "from sklearn.metrics import mean_squared_error\n",
    "import seaborn as sns\n",
    "from sklearn.gaussian_process import GaussianProcessRegressor\n",
    "from numpy import sqrt \n",
    "import pickle\n",
    "from sklearn.gaussian_process.kernels import ConstantKernel, RBF, WhiteKernel\n",
    "from sklearn.gaussian_process.kernels import ExpSineSquared, Matern, RationalQuadratic\n",
    "from tsfresh import extract_features, select_features\n",
    "from tsfresh.utilities.dataframe_functions import impute\n",
    "from sklearn.metrics import accuracy_score,recall_score,precision_score,f1_score\n",
    "from sklearn.model_selection import GridSearchCV\n",
    "from sklearn.metrics import mean_absolute_error\n",
    "\n",
    "\n",
    "import os\n",
    "for dirname, _, filenames in os.walk('/kaggle/input'):\n",
    "    for filename in filenames:\n",
    "        print(os.path.join(dirname, filename))"
   ]
  },
  {
   "cell_type": "code",
   "execution_count": 2,
   "id": "abf7592b",
   "metadata": {
    "execution": {
     "iopub.execute_input": "2023-07-31T11:55:02.898085Z",
     "iopub.status.busy": "2023-07-31T11:55:02.897320Z",
     "iopub.status.idle": "2023-07-31T11:55:12.891428Z",
     "shell.execute_reply": "2023-07-31T11:55:12.889958Z"
    },
    "papermill": {
     "duration": 10.004852,
     "end_time": "2023-07-31T11:55:12.894310",
     "exception": false,
     "start_time": "2023-07-31T11:55:02.889458",
     "status": "completed"
    },
    "tags": []
   },
   "outputs": [],
   "source": [
    "m2508_train = pd.read_csv('/kaggle/input/mc90v-full/M2508_train_sensors.csv')\n",
    "m2508_test = pd.read_csv('/kaggle/input/mc90v-full/M2508_test_sensors.csv')"
   ]
  },
  {
   "cell_type": "markdown",
   "id": "3d499be8",
   "metadata": {
    "papermill": {
     "duration": 0.006825,
     "end_time": "2023-07-31T11:55:13.247953",
     "exception": false,
     "start_time": "2023-07-31T11:55:13.241128",
     "status": "completed"
    },
    "tags": []
   },
   "source": [
    "### Preprocessing"
   ]
  },
  {
   "cell_type": "code",
   "execution_count": 4,
   "id": "be24294a",
   "metadata": {
    "execution": {
     "iopub.execute_input": "2023-07-31T11:55:13.264286Z",
     "iopub.status.busy": "2023-07-31T11:55:13.263847Z",
     "iopub.status.idle": "2023-07-31T11:55:13.276723Z",
     "shell.execute_reply": "2023-07-31T11:55:13.275408Z"
    },
    "papermill": {
     "duration": 0.023745,
     "end_time": "2023-07-31T11:55:13.279124",
     "exception": false,
     "start_time": "2023-07-31T11:55:13.255379",
     "status": "completed"
    },
    "tags": []
   },
   "outputs": [],
   "source": [
    "def calculate_RunId_X(df):\n",
    "    \n",
    "    if df['Load'] == 0:\n",
    "        return df['RunId'] * 2 -1\n",
    "    else:\n",
    "        return df['RunId'] * 2\n",
    "    \n",
    "    \n",
    "def resample(df):\n",
    "        df = df.groupby(df.index // 10).mean()\n",
    "        return df\n",
    "        \n",
    "\n",
    "def preprocessing(df):\n",
    "    \n",
    "    # Getting only SeaTemp = 20 and Windspeed = 0\n",
    "    df = df[(df.SeaTemp == 'SW20') & (df.WindSpeed == 'WC0')]\n",
    "    \n",
    "    # select features\n",
    "    abr_sensor_list = ['E02005', 'E02006', 'E02056', 'E03760', 'G00027', 'G00108', 'G02011', 'N02015', 'P00023', 'P01005', 'P01302', 'P01303', 'P01600', 'P01602', 'P02055', 'P02065', 'P02066', 'P02071', 'P02072', 'Q02004', 'T00002', 'T01010', 'T01011', 'T01350', 'T01351', 'T01601', 'T01603', 'T02014', 'T02040', 'T02041', 'T02042', 'T02044', 'T04600', 'Z00518', 'Z01970', 'Z02013']\n",
    "    ic = ['Load','RunId']\n",
    "    ic.extend(abr_sensor_list)\n",
    "    df = df[ic]\n",
    "    \n",
    "    # LoadType 0-1\n",
    "    df['Load'] = df['Load'].apply(lambda x: 0 if x == 'FAL' else 1)\n",
    "    \n",
    "    # interpolate\n",
    "    df = df.interpolate().fillna(df.mean())\n",
    "    \n",
    "    # create RunID_X column\n",
    "    runId_column = df.apply(calculate_RunId_X, axis=1)\n",
    "    df['RunID_X'] = runId_column\n",
    "    df['RunID_X'] = df['RunID_X'].astype(int)\n",
    "    \n",
    "    # resampling\n",
    "    df = df.groupby('RunID_X').apply(resample)\n",
    "    \n",
    "    # drop Load, RunId, RunID_X\n",
    "    df = df.drop(['Load','RunId', 'RunID_X'], axis =1 )\n",
    "\n",
    "    \n",
    "    #--------------feature extraction----------------\n",
    "    min_values = df.groupby('RunID_X').min()\n",
    "    max_values = df.groupby('RunID_X').max()\n",
    "    \n",
    "    df = df.join(pd.DataFrame(min_values.values, index=min_values.index, columns=min_values.columns + '_min_value'))\n",
    "    df = df.join(pd.DataFrame(max_values.values, index=max_values.index, columns=max_values.columns + '_max_value'))\n",
    "    #--------------feature extraction----------------\n",
    "    \n",
    "    df = df.drop(['Z02013_min_value','Z02013_max_value'], axis = 1)\n",
    "\n",
    "    return df"
   ]
  },
  {
   "cell_type": "code",
   "execution_count": 5,
   "id": "d463a57a",
   "metadata": {
    "execution": {
     "iopub.execute_input": "2023-07-31T11:55:13.294333Z",
     "iopub.status.busy": "2023-07-31T11:55:13.293916Z",
     "iopub.status.idle": "2023-07-31T11:55:13.299841Z",
     "shell.execute_reply": "2023-07-31T11:55:13.298579Z"
    },
    "papermill": {
     "duration": 0.016324,
     "end_time": "2023-07-31T11:55:13.302155",
     "exception": false,
     "start_time": "2023-07-31T11:55:13.285831",
     "status": "completed"
    },
    "tags": []
   },
   "outputs": [],
   "source": [
    "def train_test(df_train, df_test):\n",
    "    \n",
    "    # X_train - X_test - smokeContent_train - smokeContent_test\n",
    "    smokeContent_train = df_train['Z02013'] \n",
    "    smokeContent_test = df_test['Z02013']\n",
    "\n",
    "    X_train = df_train.drop(['Z02013'], axis = 1)\n",
    "    X_test = df_test.drop(['Z02013'], axis = 1)\n",
    "    \n",
    "    return X_train, smokeContent_train, X_test, smokeContent_test"
   ]
  },
  {
   "cell_type": "code",
   "execution_count": 6,
   "id": "0350ce42",
   "metadata": {
    "execution": {
     "iopub.execute_input": "2023-07-31T11:55:13.317674Z",
     "iopub.status.busy": "2023-07-31T11:55:13.317221Z",
     "iopub.status.idle": "2023-07-31T11:55:13.324434Z",
     "shell.execute_reply": "2023-07-31T11:55:13.323306Z"
    },
    "papermill": {
     "duration": 0.017328,
     "end_time": "2023-07-31T11:55:13.326427",
     "exception": false,
     "start_time": "2023-07-31T11:55:13.309099",
     "status": "completed"
    },
    "tags": []
   },
   "outputs": [],
   "source": [
    "def scale_data(X_train, smokeContent_train, X_test, smokeContent_test):\n",
    "    \n",
    "    x_train_scaler = MinMaxScaler()\n",
    "    X_train_scaled = x_train_scaler.fit_transform(X_train)\n",
    "\n",
    "    x_test_scaler = MinMaxScaler()\n",
    "    X_test_scaled = x_test_scaler.fit_transform(X_test)\n",
    "\n",
    "    smokeContent_train_scaler = MinMaxScaler()\n",
    "    smokeContent_train_scaled = smokeContent_train_scaler.fit_transform(np.array(smokeContent_train).reshape(-1,1))\n",
    "\n",
    "    smokeContent_test_scaler = MinMaxScaler()\n",
    "    smokeContent_test_scaled = smokeContent_test_scaler.fit_transform(np.array(smokeContent_test).reshape(-1,1))\n",
    "    \n",
    "    return X_train_scaled, smokeContent_train_scaled, X_test_scaled, smokeContent_test_scaled, smokeContent_test_scaler"
   ]
  },
  {
   "cell_type": "code",
   "execution_count": 7,
   "id": "f3e80e8b",
   "metadata": {
    "execution": {
     "iopub.execute_input": "2023-07-31T11:55:13.344002Z",
     "iopub.status.busy": "2023-07-31T11:55:13.342909Z",
     "iopub.status.idle": "2023-07-31T11:55:15.383681Z",
     "shell.execute_reply": "2023-07-31T11:55:15.382223Z"
    },
    "papermill": {
     "duration": 2.051889,
     "end_time": "2023-07-31T11:55:15.386773",
     "exception": false,
     "start_time": "2023-07-31T11:55:13.334884",
     "status": "completed"
    },
    "tags": []
   },
   "outputs": [],
   "source": [
    "m2508_train = preprocessing(m2508_train)\n",
    "m2508_test = preprocessing(m2508_test)\n",
    "\n",
    "M2508_X_train, M2508_smokeContent_train, M2508_X_test, M2508_smokeContent_test = train_test(m2508_train, m2508_test)\n",
    "\n",
    "M2508_X_train_scaled, M2508_smokeContent_train_scaled, M2508_X_test_scaled, M2508_smokeContent_test_scaled, M2508_smokeContent_test_scaler = scale_data( M2508_X_train, M2508_smokeContent_train, M2508_X_test, M2508_smokeContent_test)"
   ]
  },
  {
   "cell_type": "markdown",
   "id": "dba95d77",
   "metadata": {
    "papermill": {
     "duration": 0.006921,
     "end_time": "2023-07-31T11:55:15.458206",
     "exception": false,
     "start_time": "2023-07-31T11:55:15.451285",
     "status": "completed"
    },
    "tags": []
   },
   "source": [
    "### Model"
   ]
  },
  {
   "cell_type": "code",
   "execution_count": 9,
   "id": "0d82e7f2",
   "metadata": {
    "execution": {
     "iopub.execute_input": "2023-07-31T11:55:15.475634Z",
     "iopub.status.busy": "2023-07-31T11:55:15.474482Z",
     "iopub.status.idle": "2023-07-31T11:55:15.480761Z",
     "shell.execute_reply": "2023-07-31T11:55:15.479630Z"
    },
    "papermill": {
     "duration": 0.017241,
     "end_time": "2023-07-31T11:55:15.482925",
     "exception": false,
     "start_time": "2023-07-31T11:55:15.465684",
     "status": "completed"
    },
    "tags": []
   },
   "outputs": [],
   "source": [
    "def predict_smokeContent(X_test_scaled, smokeContent_test_scaler, gpr):\n",
    "    \n",
    "    smokeContent_pred_scaled = gpr.predict(X_test_scaled, return_std=False)\n",
    "    smokeContent_pred_scaled = smokeContent_pred_scaled.flatten()\n",
    "    smokeContent_pred_scaled = smokeContent_pred_scaled.reshape(-1, 1)\n",
    "    smokeContent_pred = smokeContent_test_scaler.inverse_transform(smokeContent_pred_scaled)\n",
    "    \n",
    "    return smokeContent_pred"
   ]
  },
  {
   "cell_type": "markdown",
   "id": "6f248592",
   "metadata": {
    "papermill": {
     "duration": 0.007186,
     "end_time": "2023-07-31T11:55:15.497722",
     "exception": false,
     "start_time": "2023-07-31T11:55:15.490536",
     "status": "completed"
    },
    "tags": []
   },
   "source": [
    "#### Matern"
   ]
  },
  {
   "cell_type": "code",
   "execution_count": 10,
   "id": "955bdd88",
   "metadata": {
    "execution": {
     "iopub.execute_input": "2023-07-31T11:55:15.515798Z",
     "iopub.status.busy": "2023-07-31T11:55:15.515297Z",
     "iopub.status.idle": "2023-07-31T11:58:26.168073Z",
     "shell.execute_reply": "2023-07-31T11:58:26.166748Z"
    },
    "papermill": {
     "duration": 190.665398,
     "end_time": "2023-07-31T11:58:26.171258",
     "exception": false,
     "start_time": "2023-07-31T11:55:15.505860",
     "status": "completed"
    },
    "tags": []
   },
   "outputs": [],
   "source": [
    "matern_kernel = Matern(length_scale=1.0, nu=1.5)\n",
    "gpr_m2508_matern = GaussianProcessRegressor(kernel=matern_kernel, alpha=1e-5, random_state=42)\n",
    "\n",
    "gpr_m2508_matern.fit(M2508_X_train_scaled, M2508_smokeContent_train_scaled)\n",
    "\n",
    "m2508_filename = 'm2508_matern_ts.pkl'\n",
    "pickle.dump(gpr_m2508_matern, open(m2508_filename, 'wb'))"
   ]
  },
  {
   "cell_type": "code",
   "execution_count": 11,
   "id": "ff7538c8",
   "metadata": {
    "execution": {
     "iopub.execute_input": "2023-07-31T11:58:26.188801Z",
     "iopub.status.busy": "2023-07-31T11:58:26.188128Z",
     "iopub.status.idle": "2023-07-31T11:58:34.322885Z",
     "shell.execute_reply": "2023-07-31T11:58:34.321653Z"
    },
    "papermill": {
     "duration": 8.147542,
     "end_time": "2023-07-31T11:58:34.326675",
     "exception": false,
     "start_time": "2023-07-31T11:58:26.179133",
     "status": "completed"
    },
    "tags": []
   },
   "outputs": [
    {
     "name": "stdout",
     "output_type": "stream",
     "text": [
      "RMSE | [Matern:  0.6150487227391889\n",
      "MAE  | [Matern:  0.39947898836327367\n"
     ]
    }
   ],
   "source": [
    "M2508_smokeContent_pred_matern = predict_smokeContent(M2508_X_test_scaled, M2508_smokeContent_test_scaler, gpr_m2508_matern)\n",
    "\n",
    "M2508_rmse_matern = sqrt(mean_squared_error(M2508_smokeContent_test, M2508_smokeContent_pred_matern))\n",
    "print(\"RMSE | [Matern: \", M2508_rmse_matern)\n",
    "\n",
    "M2508_mae_matern = mean_absolute_error(M2508_smokeContent_test, M2508_smokeContent_pred_matern)\n",
    "print(\"MAE  | [Matern: \", M2508_mae_matern)"
   ]
  },
  {
   "cell_type": "markdown",
   "id": "dd382927",
   "metadata": {
    "papermill": {
     "duration": 0.011897,
     "end_time": "2023-07-31T11:58:34.351355",
     "exception": false,
     "start_time": "2023-07-31T11:58:34.339458",
     "status": "completed"
    },
    "tags": []
   },
   "source": [
    "#### Rational Quadratic"
   ]
  },
  {
   "cell_type": "code",
   "execution_count": 12,
   "id": "009e1494",
   "metadata": {
    "execution": {
     "iopub.execute_input": "2023-07-31T11:58:34.378503Z",
     "iopub.status.busy": "2023-07-31T11:58:34.377929Z",
     "iopub.status.idle": "2023-07-31T12:09:00.522118Z",
     "shell.execute_reply": "2023-07-31T12:09:00.520810Z"
    },
    "papermill": {
     "duration": 626.161524,
     "end_time": "2023-07-31T12:09:00.525291",
     "exception": false,
     "start_time": "2023-07-31T11:58:34.363767",
     "status": "completed"
    },
    "tags": []
   },
   "outputs": [],
   "source": [
    "kernel_rq = RationalQuadratic(length_scale=1.0, alpha=1.5)\n",
    "gpr_m2508_rq = GaussianProcessRegressor(kernel=kernel_rq, alpha=1.5, random_state = 42)\n",
    "\n",
    "gpr_m2508_rq.fit(M2508_X_train_scaled, M2508_smokeContent_train_scaled)\n",
    "\n",
    "m2508_filename = 'm2508_rq_ts.pkl'\n",
    "pickle.dump(gpr_m2508_rq, open(m2508_filename, 'wb'))"
   ]
  },
  {
   "cell_type": "code",
   "execution_count": 13,
   "id": "fce6592d",
   "metadata": {
    "execution": {
     "iopub.execute_input": "2023-07-31T12:09:00.543978Z",
     "iopub.status.busy": "2023-07-31T12:09:00.543539Z",
     "iopub.status.idle": "2023-07-31T12:09:08.980024Z",
     "shell.execute_reply": "2023-07-31T12:09:08.976583Z"
    },
    "papermill": {
     "duration": 8.450049,
     "end_time": "2023-07-31T12:09:08.983407",
     "exception": false,
     "start_time": "2023-07-31T12:09:00.533358",
     "status": "completed"
    },
    "tags": []
   },
   "outputs": [
    {
     "name": "stdout",
     "output_type": "stream",
     "text": [
      "RMSE | [Rational Quadratic:  0.8858238225972502\n",
      "MAE  | [Rational Quadratic:  0.18501927168195884\n"
     ]
    }
   ],
   "source": [
    "M2508_smokeContent_pred_rq = predict_smokeContent(M2508_X_test_scaled, M2508_smokeContent_test_scaler, gpr_m2508_rq)\n",
    "\n",
    "M2508_rmse_rq = sqrt(mean_squared_error(M2508_smokeContent_test, M2508_smokeContent_pred_rq))\n",
    "print(\"RMSE | [Rational Quadratic: \", M2508_rmse_rq)\n",
    "\n",
    "M2508_mae_rq = mean_absolute_error(M2508_smokeContent_test, M2508_smokeContent_pred_rq)\n",
    "print(\"MAE  | [Rational Quadratic: \", M2508_mae_rq)"
   ]
  },
  {
   "cell_type": "markdown",
   "id": "c32a419e",
   "metadata": {
    "papermill": {
     "duration": 0.01248,
     "end_time": "2023-07-31T12:09:09.009025",
     "exception": false,
     "start_time": "2023-07-31T12:09:08.996545",
     "status": "completed"
    },
    "tags": []
   },
   "source": [
    "#### RBF * Linear + White"
   ]
  },
  {
   "cell_type": "code",
   "execution_count": 14,
   "id": "647f6387",
   "metadata": {
    "execution": {
     "iopub.execute_input": "2023-07-31T12:09:09.037043Z",
     "iopub.status.busy": "2023-07-31T12:09:09.036313Z",
     "iopub.status.idle": "2023-07-31T12:18:18.041947Z",
     "shell.execute_reply": "2023-07-31T12:18:18.040594Z"
    },
    "papermill": {
     "duration": 549.023423,
     "end_time": "2023-07-31T12:18:18.045386",
     "exception": false,
     "start_time": "2023-07-31T12:09:09.021963",
     "status": "completed"
    },
    "tags": []
   },
   "outputs": [
    {
     "name": "stderr",
     "output_type": "stream",
     "text": [
      "/opt/conda/lib/python3.10/site-packages/sklearn/gaussian_process/kernels.py:420: ConvergenceWarning: The optimal value found for dimension 0 of parameter k2__noise_level is close to the specified lower bound 1e-05. Decreasing the bound and calling fit again may find a better value.\n",
      "  warnings.warn(\n"
     ]
    }
   ],
   "source": [
    "kernel = ConstantKernel() * RBF() + WhiteKernel()\n",
    "\n",
    "gpr_m2508_rbf = GaussianProcessRegressor(kernel=kernel, alpha=0.1, random_state = 42)\n",
    "\n",
    "gpr_m2508_rbf.fit(M2508_X_train_scaled, M2508_smokeContent_train_scaled)\n",
    "\n",
    "m2508_filename = 'm2508_rbf_ts.pkl'\n",
    "pickle.dump(gpr_m2508_rbf, open(m2508_filename, 'wb'))"
   ]
  },
  {
   "cell_type": "code",
   "execution_count": 15,
   "id": "b5d2a63c",
   "metadata": {
    "execution": {
     "iopub.execute_input": "2023-07-31T12:18:18.074474Z",
     "iopub.status.busy": "2023-07-31T12:18:18.073399Z",
     "iopub.status.idle": "2023-07-31T12:18:26.539849Z",
     "shell.execute_reply": "2023-07-31T12:18:26.538254Z"
    },
    "papermill": {
     "duration": 8.489291,
     "end_time": "2023-07-31T12:18:26.543812",
     "exception": false,
     "start_time": "2023-07-31T12:18:18.054521",
     "status": "completed"
    },
    "tags": []
   },
   "outputs": [
    {
     "name": "stdout",
     "output_type": "stream",
     "text": [
      "RMSE | [RBF + Linear:  0.7124731583805552\n",
      "MAE  | [RBF + Linear:  0.42390773325809605\n"
     ]
    }
   ],
   "source": [
    "M2508_smokeContent_pred_rbf = predict_smokeContent(M2508_X_test_scaled, M2508_smokeContent_test_scaler, gpr_m2508_rbf)\n",
    "\n",
    "M2508_rmse_rbf = sqrt(mean_squared_error(M2508_smokeContent_test, M2508_smokeContent_pred_rbf))\n",
    "print(\"RMSE | [RBF + Linear: \", M2508_rmse_rbf)\n",
    "\n",
    "M2508_mae_rbf = mean_absolute_error(M2508_smokeContent_test, M2508_smokeContent_pred_rbf)\n",
    "print(\"MAE  | [RBF + Linear: \", M2508_mae_rbf)"
   ]
  },
  {
   "cell_type": "code",
   "execution_count": 16,
   "id": "97905ec2",
   "metadata": {
    "execution": {
     "iopub.execute_input": "2023-07-31T12:18:26.573581Z",
     "iopub.status.busy": "2023-07-31T12:18:26.572681Z",
     "iopub.status.idle": "2023-07-31T12:18:26.583143Z",
     "shell.execute_reply": "2023-07-31T12:18:26.582037Z"
    },
    "papermill": {
     "duration": 0.029063,
     "end_time": "2023-07-31T12:18:26.586461",
     "exception": false,
     "start_time": "2023-07-31T12:18:26.557398",
     "status": "completed"
    },
    "tags": []
   },
   "outputs": [],
   "source": [
    "M2508_X_test['Z02013'] = M2508_smokeContent_test\n",
    "M2508_X_test['pred_matern'] = M2508_smokeContent_pred_matern\n",
    "M2508_X_test['pred_rq'] = M2508_smokeContent_pred_rq\n",
    "M2508_X_test['pred_rbf'] = M2508_smokeContent_pred_rbf"
   ]
  },
  {
   "cell_type": "markdown",
   "id": "d988c0a5",
   "metadata": {
    "papermill": {
     "duration": 0.01282,
     "end_time": "2023-07-31T12:18:26.612796",
     "exception": false,
     "start_time": "2023-07-31T12:18:26.599976",
     "status": "completed"
    },
    "tags": []
   },
   "source": [
    "### Best Kernel"
   ]
  },
  {
   "cell_type": "code",
   "execution_count": 17,
   "id": "1c7ad4ff",
   "metadata": {
    "execution": {
     "iopub.execute_input": "2023-07-31T12:18:26.637504Z",
     "iopub.status.busy": "2023-07-31T12:18:26.637041Z",
     "iopub.status.idle": "2023-07-31T17:39:29.739676Z",
     "shell.execute_reply": "2023-07-31T17:39:29.735045Z"
    },
    "papermill": {
     "duration": 19263.119685,
     "end_time": "2023-07-31T17:39:29.745749",
     "exception": false,
     "start_time": "2023-07-31T12:18:26.626064",
     "status": "completed"
    },
    "tags": []
   },
   "outputs": [
    {
     "name": "stderr",
     "output_type": "stream",
     "text": [
      "/opt/conda/lib/python3.10/site-packages/sklearn/gaussian_process/kernels.py:420: ConvergenceWarning: The optimal value found for dimension 0 of parameter k2__noise_level is close to the specified lower bound 1e-05. Decreasing the bound and calling fit again may find a better value.\n",
      "  warnings.warn(\n",
      "/opt/conda/lib/python3.10/site-packages/sklearn/gaussian_process/kernels.py:420: ConvergenceWarning: The optimal value found for dimension 0 of parameter k2__noise_level is close to the specified lower bound 1e-05. Decreasing the bound and calling fit again may find a better value.\n",
      "  warnings.warn(\n",
      "/opt/conda/lib/python3.10/site-packages/sklearn/gaussian_process/kernels.py:420: ConvergenceWarning: The optimal value found for dimension 0 of parameter k2__noise_level is close to the specified lower bound 1e-05. Decreasing the bound and calling fit again may find a better value.\n",
      "  warnings.warn(\n",
      "/opt/conda/lib/python3.10/site-packages/sklearn/gaussian_process/kernels.py:420: ConvergenceWarning: The optimal value found for dimension 0 of parameter k2__noise_level is close to the specified lower bound 1e-05. Decreasing the bound and calling fit again may find a better value.\n",
      "  warnings.warn(\n",
      "/opt/conda/lib/python3.10/site-packages/sklearn/gaussian_process/kernels.py:420: ConvergenceWarning: The optimal value found for dimension 0 of parameter k2__noise_level is close to the specified lower bound 1e-05. Decreasing the bound and calling fit again may find a better value.\n",
      "  warnings.warn(\n",
      "/opt/conda/lib/python3.10/site-packages/sklearn/gaussian_process/kernels.py:430: ConvergenceWarning: The optimal value found for dimension 0 of parameter k1__k2__alpha is close to the specified upper bound 100000.0. Increasing the bound and calling fit again may find a better value.\n",
      "  warnings.warn(\n",
      "/opt/conda/lib/python3.10/site-packages/sklearn/gaussian_process/kernels.py:420: ConvergenceWarning: The optimal value found for dimension 0 of parameter k2__noise_level is close to the specified lower bound 1e-05. Decreasing the bound and calling fit again may find a better value.\n",
      "  warnings.warn(\n",
      "/opt/conda/lib/python3.10/site-packages/sklearn/gaussian_process/kernels.py:430: ConvergenceWarning: The optimal value found for dimension 0 of parameter k1__k2__alpha is close to the specified upper bound 100000.0. Increasing the bound and calling fit again may find a better value.\n",
      "  warnings.warn(\n",
      "/opt/conda/lib/python3.10/site-packages/sklearn/gaussian_process/kernels.py:420: ConvergenceWarning: The optimal value found for dimension 0 of parameter k2__noise_level is close to the specified lower bound 1e-05. Decreasing the bound and calling fit again may find a better value.\n",
      "  warnings.warn(\n",
      "/opt/conda/lib/python3.10/site-packages/sklearn/gaussian_process/kernels.py:420: ConvergenceWarning: The optimal value found for dimension 0 of parameter k2__noise_level is close to the specified lower bound 1e-05. Decreasing the bound and calling fit again may find a better value.\n",
      "  warnings.warn(\n",
      "/opt/conda/lib/python3.10/site-packages/sklearn/gaussian_process/kernels.py:420: ConvergenceWarning: The optimal value found for dimension 0 of parameter k2__noise_level is close to the specified lower bound 1e-05. Decreasing the bound and calling fit again may find a better value.\n",
      "  warnings.warn(\n",
      "/opt/conda/lib/python3.10/site-packages/sklearn/gaussian_process/kernels.py:420: ConvergenceWarning: The optimal value found for dimension 0 of parameter k2__noise_level is close to the specified lower bound 1e-05. Decreasing the bound and calling fit again may find a better value.\n",
      "  warnings.warn(\n",
      "/opt/conda/lib/python3.10/site-packages/sklearn/gaussian_process/kernels.py:420: ConvergenceWarning: The optimal value found for dimension 0 of parameter k2__noise_level is close to the specified lower bound 1e-05. Decreasing the bound and calling fit again may find a better value.\n",
      "  warnings.warn(\n",
      "/opt/conda/lib/python3.10/site-packages/sklearn/gaussian_process/kernels.py:420: ConvergenceWarning: The optimal value found for dimension 0 of parameter k2__noise_level is close to the specified lower bound 1e-05. Decreasing the bound and calling fit again may find a better value.\n",
      "  warnings.warn(\n",
      "/opt/conda/lib/python3.10/site-packages/sklearn/gaussian_process/kernels.py:420: ConvergenceWarning: The optimal value found for dimension 0 of parameter k2__noise_level is close to the specified lower bound 1e-05. Decreasing the bound and calling fit again may find a better value.\n",
      "  warnings.warn(\n",
      "/opt/conda/lib/python3.10/site-packages/sklearn/gaussian_process/kernels.py:420: ConvergenceWarning: The optimal value found for dimension 0 of parameter k2__noise_level is close to the specified lower bound 1e-05. Decreasing the bound and calling fit again may find a better value.\n",
      "  warnings.warn(\n",
      "/opt/conda/lib/python3.10/site-packages/sklearn/gaussian_process/kernels.py:420: ConvergenceWarning: The optimal value found for dimension 0 of parameter k2__noise_level is close to the specified lower bound 1e-05. Decreasing the bound and calling fit again may find a better value.\n",
      "  warnings.warn(\n",
      "/opt/conda/lib/python3.10/site-packages/sklearn/gaussian_process/kernels.py:420: ConvergenceWarning: The optimal value found for dimension 0 of parameter k2__noise_level is close to the specified lower bound 1e-05. Decreasing the bound and calling fit again may find a better value.\n",
      "  warnings.warn(\n",
      "/opt/conda/lib/python3.10/site-packages/sklearn/gaussian_process/kernels.py:420: ConvergenceWarning: The optimal value found for dimension 0 of parameter k2__noise_level is close to the specified lower bound 1e-05. Decreasing the bound and calling fit again may find a better value.\n",
      "  warnings.warn(\n",
      "/opt/conda/lib/python3.10/site-packages/sklearn/gaussian_process/kernels.py:420: ConvergenceWarning: The optimal value found for dimension 0 of parameter k2__noise_level is close to the specified lower bound 1e-05. Decreasing the bound and calling fit again may find a better value.\n",
      "  warnings.warn(\n",
      "/opt/conda/lib/python3.10/site-packages/sklearn/gaussian_process/kernels.py:420: ConvergenceWarning: The optimal value found for dimension 0 of parameter k2__noise_level is close to the specified lower bound 1e-05. Decreasing the bound and calling fit again may find a better value.\n",
      "  warnings.warn(\n",
      "/opt/conda/lib/python3.10/site-packages/sklearn/gaussian_process/kernels.py:430: ConvergenceWarning: The optimal value found for dimension 0 of parameter k1__k1__k1__length_scale is close to the specified upper bound 100000.0. Increasing the bound and calling fit again may find a better value.\n",
      "  warnings.warn(\n",
      "/opt/conda/lib/python3.10/site-packages/sklearn/gaussian_process/kernels.py:420: ConvergenceWarning: The optimal value found for dimension 0 of parameter k2__noise_level is close to the specified lower bound 1e-05. Decreasing the bound and calling fit again may find a better value.\n",
      "  warnings.warn(\n",
      "/opt/conda/lib/python3.10/site-packages/sklearn/gaussian_process/kernels.py:420: ConvergenceWarning: The optimal value found for dimension 0 of parameter k2__noise_level is close to the specified lower bound 1e-05. Decreasing the bound and calling fit again may find a better value.\n",
      "  warnings.warn(\n"
     ]
    },
    {
     "name": "stdout",
     "output_type": "stream",
     "text": [
      "RMSE: 0.0002225469215026742, Parameters: {'alpha': 0.01, 'kernel': RBF(length_scale=1) + WhiteKernel(noise_level=1)}\n",
      "RMSE: 0.00022180404981114184, Parameters: {'alpha': 0.01, 'kernel': Matern(length_scale=1, nu=1.5) + RationalQuadratic(alpha=1, length_scale=1) + WhiteKernel(noise_level=1)}\n",
      "RMSE: 0.00022175602089657235, Parameters: {'alpha': 0.01, 'kernel': Matern(length_scale=1, nu=1.5) + RBF(length_scale=1) + WhiteKernel(noise_level=1)}\n",
      "RMSE: 0.0002164999861924313, Parameters: {'alpha': 0.01, 'kernel': Matern(length_scale=1, nu=1.5) + RationalQuadratic(alpha=1, length_scale=1) + RBF(length_scale=1) + WhiteKernel(noise_level=1)}\n"
     ]
    }
   ],
   "source": [
    "kernels = [\n",
    "    RBF(length_scale=1.0) + WhiteKernel(),    # RBF kernel with WhiteNoise kernel\n",
    "    \n",
    "    Matern(length_scale=1.0) + RationalQuadratic(length_scale=1.0) + WhiteKernel(),  # Matern + RQ kernel with WhiteNoise kernel\n",
    "    \n",
    "    Matern(length_scale=1.0) + RBF(length_scale=1.0) + WhiteKernel(),  # Matern + RQ kernel with WhiteNoise kernel\n",
    "    \n",
    "    Matern(length_scale=1.0) + RationalQuadratic(length_scale=1.0) + RBF(length_scale=1.0) + WhiteKernel(),  # Matern + RQ + RBF kernel with WhiteNoise kernel\n",
    "    \n",
    "]\n",
    "\n",
    "param_grid = {\n",
    "    'kernel': kernels,\n",
    "    'alpha': [1e-2], \n",
    "}\n",
    "\n",
    "gpr = GaussianProcessRegressor()\n",
    "\n",
    "grid_search = GridSearchCV(gpr, param_grid, scoring='neg_mean_squared_error', cv=5)\n",
    "grid_search.fit(M2508_X_train_scaled, M2508_smokeContent_train_scaled)\n",
    "\n",
    "results = grid_search.cv_results_\n",
    "for mean_score, params in zip(results[\"mean_test_score\"], results[\"params\"]):\n",
    "    print(f\"RMSE: {-mean_score}, Parameters: {params}\")"
   ]
  },
  {
   "cell_type": "code",
   "execution_count": 18,
   "id": "5a1bc703",
   "metadata": {
    "execution": {
     "iopub.execute_input": "2023-07-31T17:39:29.772965Z",
     "iopub.status.busy": "2023-07-31T17:39:29.772295Z",
     "iopub.status.idle": "2023-07-31T18:20:31.642205Z",
     "shell.execute_reply": "2023-07-31T18:20:31.640840Z"
    },
    "papermill": {
     "duration": 2461.888558,
     "end_time": "2023-07-31T18:20:31.644638",
     "exception": false,
     "start_time": "2023-07-31T17:39:29.756080",
     "status": "completed"
    },
    "tags": []
   },
   "outputs": [
    {
     "name": "stderr",
     "output_type": "stream",
     "text": [
      "/opt/conda/lib/python3.10/site-packages/sklearn/gaussian_process/kernels.py:420: ConvergenceWarning: The optimal value found for dimension 0 of parameter k2__noise_level is close to the specified lower bound 1e-05. Decreasing the bound and calling fit again may find a better value.\n",
      "  warnings.warn(\n"
     ]
    },
    {
     "data": {
      "text/html": [
       "<style>#sk-container-id-1 {color: black;background-color: white;}#sk-container-id-1 pre{padding: 0;}#sk-container-id-1 div.sk-toggleable {background-color: white;}#sk-container-id-1 label.sk-toggleable__label {cursor: pointer;display: block;width: 100%;margin-bottom: 0;padding: 0.3em;box-sizing: border-box;text-align: center;}#sk-container-id-1 label.sk-toggleable__label-arrow:before {content: \"▸\";float: left;margin-right: 0.25em;color: #696969;}#sk-container-id-1 label.sk-toggleable__label-arrow:hover:before {color: black;}#sk-container-id-1 div.sk-estimator:hover label.sk-toggleable__label-arrow:before {color: black;}#sk-container-id-1 div.sk-toggleable__content {max-height: 0;max-width: 0;overflow: hidden;text-align: left;background-color: #f0f8ff;}#sk-container-id-1 div.sk-toggleable__content pre {margin: 0.2em;color: black;border-radius: 0.25em;background-color: #f0f8ff;}#sk-container-id-1 input.sk-toggleable__control:checked~div.sk-toggleable__content {max-height: 200px;max-width: 100%;overflow: auto;}#sk-container-id-1 input.sk-toggleable__control:checked~label.sk-toggleable__label-arrow:before {content: \"▾\";}#sk-container-id-1 div.sk-estimator input.sk-toggleable__control:checked~label.sk-toggleable__label {background-color: #d4ebff;}#sk-container-id-1 div.sk-label input.sk-toggleable__control:checked~label.sk-toggleable__label {background-color: #d4ebff;}#sk-container-id-1 input.sk-hidden--visually {border: 0;clip: rect(1px 1px 1px 1px);clip: rect(1px, 1px, 1px, 1px);height: 1px;margin: -1px;overflow: hidden;padding: 0;position: absolute;width: 1px;}#sk-container-id-1 div.sk-estimator {font-family: monospace;background-color: #f0f8ff;border: 1px dotted black;border-radius: 0.25em;box-sizing: border-box;margin-bottom: 0.5em;}#sk-container-id-1 div.sk-estimator:hover {background-color: #d4ebff;}#sk-container-id-1 div.sk-parallel-item::after {content: \"\";width: 100%;border-bottom: 1px solid gray;flex-grow: 1;}#sk-container-id-1 div.sk-label:hover label.sk-toggleable__label {background-color: #d4ebff;}#sk-container-id-1 div.sk-serial::before {content: \"\";position: absolute;border-left: 1px solid gray;box-sizing: border-box;top: 0;bottom: 0;left: 50%;z-index: 0;}#sk-container-id-1 div.sk-serial {display: flex;flex-direction: column;align-items: center;background-color: white;padding-right: 0.2em;padding-left: 0.2em;position: relative;}#sk-container-id-1 div.sk-item {position: relative;z-index: 1;}#sk-container-id-1 div.sk-parallel {display: flex;align-items: stretch;justify-content: center;background-color: white;position: relative;}#sk-container-id-1 div.sk-item::before, #sk-container-id-1 div.sk-parallel-item::before {content: \"\";position: absolute;border-left: 1px solid gray;box-sizing: border-box;top: 0;bottom: 0;left: 50%;z-index: -1;}#sk-container-id-1 div.sk-parallel-item {display: flex;flex-direction: column;z-index: 1;position: relative;background-color: white;}#sk-container-id-1 div.sk-parallel-item:first-child::after {align-self: flex-end;width: 50%;}#sk-container-id-1 div.sk-parallel-item:last-child::after {align-self: flex-start;width: 50%;}#sk-container-id-1 div.sk-parallel-item:only-child::after {width: 0;}#sk-container-id-1 div.sk-dashed-wrapped {border: 1px dashed gray;margin: 0 0.4em 0.5em 0.4em;box-sizing: border-box;padding-bottom: 0.4em;background-color: white;}#sk-container-id-1 div.sk-label label {font-family: monospace;font-weight: bold;display: inline-block;line-height: 1.2em;}#sk-container-id-1 div.sk-label-container {text-align: center;}#sk-container-id-1 div.sk-container {/* jupyter's `normalize.less` sets `[hidden] { display: none; }` but bootstrap.min.css set `[hidden] { display: none !important; }` so we also need the `!important` here to be able to override the default hidden behavior on the sphinx rendered scikit-learn.org. See: https://github.com/scikit-learn/scikit-learn/issues/21755 */display: inline-block !important;position: relative;}#sk-container-id-1 div.sk-text-repr-fallback {display: none;}</style><div id=\"sk-container-id-1\" class=\"sk-top-container\"><div class=\"sk-text-repr-fallback\"><pre>GaussianProcessRegressor(alpha=0.01,\n",
       "                         kernel=Matern(length_scale=1, nu=1.5) + RationalQuadratic(alpha=1, length_scale=1) + RBF(length_scale=1) + WhiteKernel(noise_level=1))</pre><b>In a Jupyter environment, please rerun this cell to show the HTML representation or trust the notebook. <br />On GitHub, the HTML representation is unable to render, please try loading this page with nbviewer.org.</b></div><div class=\"sk-container\" hidden><div class=\"sk-item\"><div class=\"sk-estimator sk-toggleable\"><input class=\"sk-toggleable__control sk-hidden--visually\" id=\"sk-estimator-id-1\" type=\"checkbox\" checked><label for=\"sk-estimator-id-1\" class=\"sk-toggleable__label sk-toggleable__label-arrow\">GaussianProcessRegressor</label><div class=\"sk-toggleable__content\"><pre>GaussianProcessRegressor(alpha=0.01,\n",
       "                         kernel=Matern(length_scale=1, nu=1.5) + RationalQuadratic(alpha=1, length_scale=1) + RBF(length_scale=1) + WhiteKernel(noise_level=1))</pre></div></div></div></div></div>"
      ],
      "text/plain": [
       "GaussianProcessRegressor(alpha=0.01,\n",
       "                         kernel=Matern(length_scale=1, nu=1.5) + RationalQuadratic(alpha=1, length_scale=1) + RBF(length_scale=1) + WhiteKernel(noise_level=1))"
      ]
     },
     "execution_count": 18,
     "metadata": {},
     "output_type": "execute_result"
    }
   ],
   "source": [
    "best_kernel = grid_search.best_params_['kernel']\n",
    "best_alpha = grid_search.best_params_['alpha']\n",
    "\n",
    "best_gpr = GaussianProcessRegressor(kernel=best_kernel, alpha=best_alpha)\n",
    "best_gpr.fit(M2508_X_train_scaled, M2508_smokeContent_train_scaled)"
   ]
  },
  {
   "cell_type": "code",
   "execution_count": 19,
   "id": "f1b8bef3",
   "metadata": {
    "execution": {
     "iopub.execute_input": "2023-07-31T18:20:31.668497Z",
     "iopub.status.busy": "2023-07-31T18:20:31.668005Z",
     "iopub.status.idle": "2023-07-31T18:20:53.690031Z",
     "shell.execute_reply": "2023-07-31T18:20:53.688747Z"
    },
    "papermill": {
     "duration": 22.037808,
     "end_time": "2023-07-31T18:20:53.694273",
     "exception": false,
     "start_time": "2023-07-31T18:20:31.656465",
     "status": "completed"
    },
    "tags": []
   },
   "outputs": [
    {
     "name": "stdout",
     "output_type": "stream",
     "text": [
      "RMSE | Best Kernel: 1.396012483185476\n",
      "MAE | Best Kernel: 1.0364538523462785\n"
     ]
    }
   ],
   "source": [
    "M2508_smokeContent_pred_best = predict_smokeContent(M2508_X_test_scaled, M2508_smokeContent_test_scaler, best_gpr)\n",
    "rmse = np.sqrt(mean_squared_error(M2508_smokeContent_test,M2508_smokeContent_pred_best ))\n",
    "print(f\"RMSE | Best Kernel: {rmse}\")\n",
    "\n",
    "\n",
    "M2508_mae_best = mean_absolute_error(M2508_smokeContent_test, M2508_smokeContent_pred_best)\n",
    "print(\"MAE | Best Kernel:\", M2508_mae_best)"
   ]
  },
  {
   "cell_type": "markdown",
   "id": "755681a0",
   "metadata": {
    "papermill": {
     "duration": 0.016627,
     "end_time": "2023-07-31T18:20:53.728677",
     "exception": false,
     "start_time": "2023-07-31T18:20:53.712050",
     "status": "completed"
    },
    "tags": []
   },
   "source": [
    "### Visualization"
   ]
  },
  {
   "cell_type": "code",
   "execution_count": 20,
   "id": "f35d7a5e",
   "metadata": {
    "execution": {
     "iopub.execute_input": "2023-07-31T18:20:53.765038Z",
     "iopub.status.busy": "2023-07-31T18:20:53.764433Z",
     "iopub.status.idle": "2023-07-31T18:20:53.785853Z",
     "shell.execute_reply": "2023-07-31T18:20:53.784332Z"
    },
    "papermill": {
     "duration": 0.044522,
     "end_time": "2023-07-31T18:20:53.790297",
     "exception": false,
     "start_time": "2023-07-31T18:20:53.745775",
     "status": "completed"
    },
    "tags": []
   },
   "outputs": [],
   "source": [
    "def model_plot(runid, M2503_X_test):\n",
    "    \n",
    "    runid_x = runid * 2 -1\n",
    "    plt.figure(figsize=(14, 8)) \n",
    "    \n",
    "    #FAL\n",
    "    plt.suptitle(\"M2508 - Smoke Content   |  \"  +  \"  RunId: \" + str(runid) )\n",
    "    \n",
    "    plt.subplot(2, 2, 1) \n",
    "    \n",
    "    smokeContent_fal = M2503_X_test.loc[runid_x]['Z02013'] \n",
    "    m2503_pred_matern_fal = M2503_X_test.loc[runid_x]['pred_matern']\n",
    "    m2503_pred_rq_fal = M2503_X_test.loc[runid_x]['pred_rq']\n",
    "    m2503_pred_rbf_fal = M2503_X_test.loc[runid_x]['pred_rbf']\n",
    "    \n",
    "    \n",
    "    plt.plot(smokeContent_fal.values,label=\"Ground Truth\", color=\"red\")  \n",
    "    plt.plot(m2503_pred_matern_fal.values ,label=\"Matern\", color=\"green\")\n",
    "    plt.plot(m2503_pred_rq_fal.values ,label=\"Rational Quadratic\", color=\"black\")\n",
    "    plt.plot(m2503_pred_rbf_fal.values ,label=\"RBF + Linear\", color=\"blue\")\n",
    "    \n",
    "    plt.legend(loc=\"lower right\")\n",
    "\n",
    "    plt.tight_layout()\n",
    "    title_ = \"FAL\"\n",
    "    plt.title(title_)\n",
    "    \n",
    "    plt.subplot(2, 2, 2) \n",
    "\n",
    "    #FAU\n",
    "    smokeContent_fau = M2503_X_test.loc[runid_x + 1]['Z02013'] \n",
    "    m2503_pred_matern_fau = M2503_X_test.loc[runid_x + 1]['pred_matern']\n",
    "    m2503_pred_rq_fau = M2503_X_test.loc[runid_x + 1]['pred_rq']\n",
    "    m2503_pred_rbf_fau = M2503_X_test.loc[runid_x + 1]['pred_rbf']\n",
    "\n",
    "    plt.plot(smokeContent_fau.values,label=\"Ground Truth\", color=\"red\")  \n",
    "    plt.plot(m2503_pred_matern_fau.values ,label=\"Matern\", color=\"green\")\n",
    "    plt.plot(m2503_pred_rq_fau.values ,label=\"Rational Quadratic\", color=\"black\")\n",
    "    plt.plot(m2503_pred_rbf_fau.values ,label=\"RBF + Linear\", color=\"blue\")\n",
    "\n",
    "    plt.legend(loc=\"lower right\")\n",
    "\n",
    "    plt.tight_layout()\n",
    "    title_ = \"FAU\"\n",
    "    plt.title(title_)\n",
    "    plt.show()"
   ]
  },
  {
   "cell_type": "code",
   "execution_count": 21,
   "id": "2a203357",
   "metadata": {
    "execution": {
     "iopub.execute_input": "2023-07-31T18:20:53.826124Z",
     "iopub.status.busy": "2023-07-31T18:20:53.825035Z",
     "iopub.status.idle": "2023-07-31T18:20:55.224225Z",
     "shell.execute_reply": "2023-07-31T18:20:55.222935Z"
    },
    "papermill": {
     "duration": 1.424345,
     "end_time": "2023-07-31T18:20:55.227392",
     "exception": false,
     "start_time": "2023-07-31T18:20:53.803047",
     "status": "completed"
    },
    "tags": []
   },
   "outputs": [
    {
     "name": "stderr",
     "output_type": "stream",
     "text": [
      "/tmp/ipykernel_20/245687511.py:43: UserWarning: The figure layout has changed to tight\n",
      "  plt.tight_layout()\n"
     ]
    },
    {
     "data": {
      "image/png": "[encoded data removed]",
      "text/plain": [
       "<Figure size 1400x800 with 2 Axes>"
      ]
     },
     "metadata": {},
     "output_type": "display_data"
    },
    {
     "data": {
      "image/png": "[encoded data removed]",
      "text/plain": [
       "<Figure size 1400x800 with 2 Axes>"
      ]
     },
     "metadata": {},
     "output_type": "display_data"
    }
   ],
   "source": [
    "# RunID : 36  |  M2508\n",
    "model_plot(36, M2508_X_test)\n",
    "\n",
    "# RunID : 40  |  M2508\n",
    "model_plot(40, M2508_X_test)"
   ]
  }
 ],
 "metadata": {
  "kernelspec": {
   "display_name": "Python 3",
   "language": "python",
   "name": "python3"
  },
  "language_info": {
   "codemirror_mode": {
    "name": "ipython",
    "version": 3
   },
   "file_extension": ".py",
   "mimetype": "text/x-python",
   "name": "python",
   "nbconvert_exporter": "python",
   "pygments_lexer": "ipython3",
   "version": "3.10.12"
  },
  "papermill": {
   "default_parameters": {},
   "duration": 23168.289328,
   "end_time": "2023-07-31T18:20:57.110611",
   "environment_variables": {},
   "exception": null,
   "input_path": "__notebook__.ipynb",
   "output_path": "__notebook__.ipynb",
   "parameters": {},
   "start_time": "2023-07-31T11:54:48.821283",
   "version": "2.4.0"
  }
 },
 "nbformat": 4,
 "nbformat_minor": 5
}
