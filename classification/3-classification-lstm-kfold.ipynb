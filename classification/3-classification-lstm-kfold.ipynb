{
 "cells": [
  {
   "cell_type": "code",
   "execution_count": 1,
   "id": "3d862866",
   "metadata": {
    "_cell_guid": "b1076dfc-b9ad-4769-8c92-a6c4dae69d19",
    "_uuid": "8f2839f25d086af736a60e9eeb907d3b93b6e0e5",
    "execution": {
     "iopub.execute_input": "2023-08-10T19:50:16.328225Z",
     "iopub.status.busy": "2023-08-10T19:50:16.327404Z",
     "iopub.status.idle": "2023-08-10T19:50:26.448953Z",
     "shell.execute_reply": "2023-08-10T19:50:26.447722Z"
    },
    "papermill": {
     "duration": 10.132107,
     "end_time": "2023-08-10T19:50:26.451292",
     "exception": false,
     "start_time": "2023-08-10T19:50:16.319185",
     "status": "completed"
    },
    "tags": []
   },
   "outputs": [
    {
     "name": "stderr",
     "output_type": "stream",
     "text": [
      "/opt/conda/lib/python3.10/site-packages/scipy/__init__.py:146: UserWarning: A NumPy version >=1.16.5 and <1.23.0 is required for this version of SciPy (detected version 1.23.5\n",
      "  warnings.warn(f\"A NumPy version >={np_minversion} and <{np_maxversion}\"\n",
      "/opt/conda/lib/python3.10/site-packages/tensorflow_io/python/ops/__init__.py:98: UserWarning: unable to load libtensorflow_io_plugins.so: unable to open file: libtensorflow_io_plugins.so, from paths: ['/opt/conda/lib/python3.10/site-packages/tensorflow_io/python/ops/libtensorflow_io_plugins.so']\n",
      "caused by: ['/opt/conda/lib/python3.10/site-packages/tensorflow_io/python/ops/libtensorflow_io_plugins.so: undefined symbol: _ZN3tsl6StatusC1EN10tensorflow5error4CodeESt17basic_string_viewIcSt11char_traitsIcEENS_14SourceLocationE']\n",
      "  warnings.warn(f\"unable to load libtensorflow_io_plugins.so: {e}\")\n",
      "/opt/conda/lib/python3.10/site-packages/tensorflow_io/python/ops/__init__.py:104: UserWarning: file system plugins are not loaded: unable to open file: libtensorflow_io.so, from paths: ['/opt/conda/lib/python3.10/site-packages/tensorflow_io/python/ops/libtensorflow_io.so']\n",
      "caused by: ['/opt/conda/lib/python3.10/site-packages/tensorflow_io/python/ops/libtensorflow_io.so: undefined symbol: _ZTVN10tensorflow13GcsFileSystemE']\n",
      "  warnings.warn(f\"file system plugins are not loaded: {e}\")\n"
     ]
    },
    {
     "name": "stdout",
     "output_type": "stream",
     "text": [
      "/kaggle/input/mc90v-full/M2508_train_sensors.csv\n",
      "/kaggle/input/mc90v-full/M2508_test_sensors.csv\n",
      "/kaggle/input/mc90v-full/M2508_train_full.csv\n",
      "/kaggle/input/mc90v-full/M2503_test_full.csv\n",
      "/kaggle/input/mc90v-full/M2503_train_full.csv\n",
      "/kaggle/input/mc90v-full/M0000_test_sensors.csv\n",
      "/kaggle/input/mc90v-full/M2503_train_sensors.csv\n",
      "/kaggle/input/mc90v-full/M2506_test_full.csv\n",
      "/kaggle/input/mc90v-full/M0000_train_full.csv\n",
      "/kaggle/input/mc90v-full/M0000_test_full.csv\n",
      "/kaggle/input/mc90v-full/M2506_train_sensors.csv\n",
      "/kaggle/input/mc90v-full/M2506_train_full.csv\n",
      "/kaggle/input/mc90v-full/M2503_test_sensors.csv\n",
      "/kaggle/input/mc90v-full/M0000_train_sensors.csv\n",
      "/kaggle/input/mc90v-full/M2506_test_sensors.csv\n",
      "/kaggle/input/mc90v-full/M2508_test_full.csv\n"
     ]
    }
   ],
   "source": [
    "import numpy as np \n",
    "import pandas as pd \n",
    "import matplotlib.pyplot as plt\n",
    "import seaborn as sns\n",
    "import tensorflow as tf\n",
    "from sklearn.preprocessing import StandardScaler\n",
    "from keras.models import Sequential\n",
    "from tensorflow.keras.layers import TimeDistributed\n",
    "from keras.layers import LSTM, Dense, Dropout\n",
    "from keras.optimizers import Adam\n",
    "from sklearn.metrics import accuracy_score, precision_score, recall_score, f1_score, confusion_matrix, classification_report\n",
    "import pickle\n",
    "from sklearn.model_selection import GroupKFold, KFold, StratifiedKFold\n",
    "from tensorflow.keras.callbacks import LambdaCallback\n",
    "from tensorflow.keras.utils import to_categorical\n",
    "from keras.callbacks import EarlyStopping\n",
    "tf.config.run_functions_eagerly(True)\n",
    "from keras.utils import plot_model\n",
    "\n",
    "\n",
    "import warnings\n",
    "warnings.filterwarnings('ignore')\n",
    "\n",
    "import os\n",
    "for dirname, _, filenames in os.walk('/kaggle/input'):\n",
    "    for filename in filenames:\n",
    "        print(os.path.join(dirname, filename))"
   ]
  },
  {
   "cell_type": "markdown",
   "id": "0e7e7374",
   "metadata": {
    "papermill": {
     "duration": 0.005951,
     "end_time": "2023-08-10T19:50:26.464125",
     "exception": false,
     "start_time": "2023-08-10T19:50:26.458174",
     "status": "completed"
    },
    "tags": []
   },
   "source": [
    "### Read Data"
   ]
  },
  {
   "cell_type": "code",
   "execution_count": 2,
   "id": "9f9b9c07",
   "metadata": {
    "execution": {
     "iopub.execute_input": "2023-08-10T19:50:26.477851Z",
     "iopub.status.busy": "2023-08-10T19:50:26.477202Z",
     "iopub.status.idle": "2023-08-10T19:51:09.677612Z",
     "shell.execute_reply": "2023-08-10T19:51:09.676549Z"
    },
    "papermill": {
     "duration": 43.21028,
     "end_time": "2023-08-10T19:51:09.680403",
     "exception": false,
     "start_time": "2023-08-10T19:50:26.470123",
     "status": "completed"
    },
    "tags": []
   },
   "outputs": [],
   "source": [
    "m0000_train = pd.read_csv('/kaggle/input/mc90v-full/M0000_train_sensors.csv')\n",
    "m0000_test = pd.read_csv('/kaggle/input/mc90v-full/M0000_test_sensors.csv')\n",
    "m2503_train = pd.read_csv('/kaggle/input/mc90v-full/M2503_train_sensors.csv')\n",
    "m2503_test = pd.read_csv('/kaggle/input/mc90v-full/M2503_test_sensors.csv')\n",
    "m2506_train = pd.read_csv('/kaggle/input/mc90v-full/M2506_train_sensors.csv')\n",
    "m2506_test = pd.read_csv('/kaggle/input/mc90v-full/M2506_test_sensors.csv')\n",
    "m2508_train = pd.read_csv('/kaggle/input/mc90v-full/M2508_train_sensors.csv')\n",
    "m2508_test = pd.read_csv('/kaggle/input/mc90v-full/M2508_test_sensors.csv')"
   ]
  },
  {
   "cell_type": "markdown",
   "id": "c0ad9b96",
   "metadata": {
    "papermill": {
     "duration": 0.006512,
     "end_time": "2023-08-10T19:51:09.694058",
     "exception": false,
     "start_time": "2023-08-10T19:51:09.687546",
     "status": "completed"
    },
    "tags": []
   },
   "source": [
    "### Preprocesing"
   ]
  },
  {
   "cell_type": "code",
   "execution_count": 3,
   "id": "88f1175b",
   "metadata": {
    "execution": {
     "iopub.execute_input": "2023-08-10T19:51:09.709404Z",
     "iopub.status.busy": "2023-08-10T19:51:09.708633Z",
     "iopub.status.idle": "2023-08-10T19:51:09.717034Z",
     "shell.execute_reply": "2023-08-10T19:51:09.715598Z"
    },
    "papermill": {
     "duration": 0.018854,
     "end_time": "2023-08-10T19:51:09.719645",
     "exception": false,
     "start_time": "2023-08-10T19:51:09.700791",
     "status": "completed"
    },
    "tags": []
   },
   "outputs": [],
   "source": [
    "def resample(df):\n",
    "    df = df.interpolate().fillna(df.mean())\n",
    "    df = df.groupby(df.index // 10).mean()\n",
    "    return df\n",
    "\n",
    "def prep(df):\n",
    "    \n",
    "    df = df.drop('Linear', axis =1)\n",
    "\n",
    "    df['Id'] = df.groupby(['Fault', 'RunId', 'Load','SeaTemp', 'WindSpeed']).ngroup() + 1\n",
    "    df = df.groupby(['Fault', 'RunId', 'Load','SeaTemp', 'WindSpeed']).apply(resample)\n",
    "\n",
    "    return df"
   ]
  },
  {
   "cell_type": "markdown",
   "id": "071a2632",
   "metadata": {
    "papermill": {
     "duration": 0.006596,
     "end_time": "2023-08-10T19:51:09.732982",
     "exception": false,
     "start_time": "2023-08-10T19:51:09.726386",
     "status": "completed"
    },
    "tags": []
   },
   "source": [
    "### Target Values"
   ]
  },
  {
   "cell_type": "code",
   "execution_count": 4,
   "id": "9f1d28ab",
   "metadata": {
    "execution": {
     "iopub.execute_input": "2023-08-10T19:51:09.748510Z",
     "iopub.status.busy": "2023-08-10T19:51:09.748148Z",
     "iopub.status.idle": "2023-08-10T19:51:09.764968Z",
     "shell.execute_reply": "2023-08-10T19:51:09.763961Z"
    },
    "papermill": {
     "duration": 0.027377,
     "end_time": "2023-08-10T19:51:09.767350",
     "exception": false,
     "start_time": "2023-08-10T19:51:09.739973",
     "status": "completed"
    },
    "tags": []
   },
   "outputs": [],
   "source": [
    "m0000_train['Fault'] = 0\n",
    "m2503_train['Fault'] = 1\n",
    "m2506_train['Fault'] = 2\n",
    "m2508_train['Fault'] = 3\n",
    "\n",
    "m0000_test['Fault'] = 0\n",
    "m2503_test['Fault'] = 1\n",
    "m2506_test['Fault'] = 2\n",
    "m2508_test['Fault'] = 3"
   ]
  },
  {
   "cell_type": "markdown",
   "id": "dafe9377",
   "metadata": {
    "papermill": {
     "duration": 0.005916,
     "end_time": "2023-08-10T19:51:09.779551",
     "exception": false,
     "start_time": "2023-08-10T19:51:09.773635",
     "status": "completed"
    },
    "tags": []
   },
   "source": [
    "### Train & Validation & Test"
   ]
  },
  {
   "cell_type": "code",
   "execution_count": 5,
   "id": "c0b8c632",
   "metadata": {
    "execution": {
     "iopub.execute_input": "2023-08-10T19:51:09.792895Z",
     "iopub.status.busy": "2023-08-10T19:51:09.792542Z",
     "iopub.status.idle": "2023-08-10T19:51:10.993853Z",
     "shell.execute_reply": "2023-08-10T19:51:10.992784Z"
    },
    "papermill": {
     "duration": 1.210843,
     "end_time": "2023-08-10T19:51:10.996288",
     "exception": false,
     "start_time": "2023-08-10T19:51:09.785445",
     "status": "completed"
    },
    "tags": []
   },
   "outputs": [],
   "source": [
    "train = pd.concat([m0000_train, m2503_train, m2506_train, m2508_train])\n",
    "test = pd.concat([m0000_test, m2503_test, m2506_test, m2508_test])"
   ]
  },
  {
   "cell_type": "code",
   "execution_count": 8,
   "id": "0869326a",
   "metadata": {
    "execution": {
     "iopub.execute_input": "2023-08-10T19:51:13.161830Z",
     "iopub.status.busy": "2023-08-10T19:51:13.161467Z",
     "iopub.status.idle": "2023-08-10T19:53:16.551596Z",
     "shell.execute_reply": "2023-08-10T19:53:16.549873Z"
    },
    "papermill": {
     "duration": 123.40209,
     "end_time": "2023-08-10T19:53:16.554521",
     "exception": false,
     "start_time": "2023-08-10T19:51:13.152431",
     "status": "completed"
    },
    "tags": []
   },
   "outputs": [],
   "source": [
    "train_data = prep(train)\n",
    "test_data = prep(test)"
   ]
  },
  {
   "cell_type": "code",
   "execution_count": 9,
   "id": "2d8dd24a",
   "metadata": {
    "execution": {
     "iopub.execute_input": "2023-08-10T19:53:16.573338Z",
     "iopub.status.busy": "2023-08-10T19:53:16.572241Z",
     "iopub.status.idle": "2023-08-10T19:53:17.206003Z",
     "shell.execute_reply": "2023-08-10T19:53:17.204963Z"
    },
    "papermill": {
     "duration": 0.646164,
     "end_time": "2023-08-10T19:53:17.208816",
     "exception": false,
     "start_time": "2023-08-10T19:53:16.562652",
     "status": "completed"
    },
    "tags": []
   },
   "outputs": [],
   "source": [
    "train_data['Id'] = train_data['Id'].astype(int)\n",
    "train_data = train_data.drop(['RunId','Fault'],axis=1).reset_index()\n",
    "train_data['Fault'] = train_data['Fault'].astype(int)\n",
    "train_data = pd.get_dummies(train_data.drop(['RunId','level_5'],axis=1))\n",
    "\n",
    "test_data['Id'] = test_data['Id'].astype(int)\n",
    "test_data = test_data.drop(['RunId','Fault'],axis=1).reset_index()\n",
    "test_data['Fault'] = test_data['Fault'].astype(int)\n",
    "test_data = pd.get_dummies(test_data.drop(['RunId','level_5'],axis=1))"
   ]
  },
  {
   "cell_type": "code",
   "execution_count": 11,
   "id": "22d1967c",
   "metadata": {
    "execution": {
     "iopub.execute_input": "2023-08-10T19:53:17.307162Z",
     "iopub.status.busy": "2023-08-10T19:53:17.306849Z",
     "iopub.status.idle": "2023-08-10T19:53:17.313614Z",
     "shell.execute_reply": "2023-08-10T19:53:17.312409Z"
    },
    "papermill": {
     "duration": 0.021102,
     "end_time": "2023-08-10T19:53:17.315944",
     "exception": false,
     "start_time": "2023-08-10T19:53:17.294842",
     "status": "completed"
    },
    "tags": []
   },
   "outputs": [
    {
     "name": "stdout",
     "output_type": "stream",
     "text": [
      "[78449 76794 64400 71201]\n"
     ]
    }
   ],
   "source": [
    "print(np.bincount(train_data['Fault']))"
   ]
  },
  {
   "cell_type": "markdown",
   "id": "2748449c",
   "metadata": {
    "papermill": {
     "duration": 0.007474,
     "end_time": "2023-08-10T19:53:17.331734",
     "exception": false,
     "start_time": "2023-08-10T19:53:17.324260",
     "status": "completed"
    },
    "tags": []
   },
   "source": [
    "### Model"
   ]
  },
  {
   "cell_type": "code",
   "execution_count": 12,
   "id": "4464e684",
   "metadata": {
    "execution": {
     "iopub.execute_input": "2023-08-10T19:53:17.348987Z",
     "iopub.status.busy": "2023-08-10T19:53:17.348550Z",
     "iopub.status.idle": "2023-08-10T19:53:17.383007Z",
     "shell.execute_reply": "2023-08-10T19:53:17.381885Z"
    },
    "papermill": {
     "duration": 0.046198,
     "end_time": "2023-08-10T19:53:17.385587",
     "exception": false,
     "start_time": "2023-08-10T19:53:17.339389",
     "status": "completed"
    },
    "tags": []
   },
   "outputs": [],
   "source": [
    "from sklearn.model_selection import StratifiedKFold\n",
    "from keras.utils import to_categorical\n",
    "from keras.models import Sequential\n",
    "from keras.layers import LSTM, Dense, Dropout\n",
    "from keras.optimizers import Adam\n",
    "from sklearn.preprocessing import StandardScaler\n",
    "from keras.callbacks import EarlyStopping\n",
    "import numpy as np\n",
    "import tensorflow as tf\n",
    "\n",
    "class LSTMClassifier():\n",
    "    def __init__(self, train_data, test_data, window_size=10, batch=32, epoch=100, verbose=1):\n",
    "        tf.config.run_functions_eagerly(True)\n",
    "\n",
    "        self.train = train_data\n",
    "        self.test = test_data\n",
    "        self.val = None\n",
    "        \n",
    "        self.window_size = window_size\n",
    "        self.num_classes = 4\n",
    "        self.num_features = 52\n",
    "        self.batch = batch\n",
    "        self.epoch = epoch\n",
    "        self.verbose = verbose\n",
    "        \n",
    "        self.scaler = StandardScaler()\n",
    "        self.model = self.createLSTM()\n",
    "        self.history = None\n",
    "\n",
    "    def createLSTM(self):        \n",
    "        model = Sequential()\n",
    "        model.add(LSTM(units=64, input_shape=(self.window_size, self.num_features), return_sequences=True))\n",
    "        model.add(Dropout(0.2))\n",
    "        model.add(LSTM(units=32))\n",
    "        model.add(Dropout(0.2))\n",
    "        model.add(Dense(units=self.num_classes, activation='softmax'))\n",
    "        model.compile(loss='categorical_crossentropy', optimizer=Adam(lr=0.001), metrics=['accuracy'], run_eagerly=True)\n",
    "        return model\n",
    "\n",
    "    def prepare_data(self, data):\n",
    "        X_sequences, y_sequences = [], []\n",
    "\n",
    "        for run in np.unique(data['Id']):\n",
    "            sub_data = data[data['Id'] == run].drop('Id',axis=1)\n",
    "            X = self.scaler.transform(sub_data.drop('Fault',axis=1))\n",
    "            y = to_categorical(sub_data['Fault'], self.num_classes)\n",
    "            \n",
    "            for i in range(len(X) - self.window_size + 1):\n",
    "                X_sequences.append(X[i:i+self.window_size])\n",
    "                y_sequences.append(y[i+self.window_size-1])\n",
    "\n",
    "        return np.array(X_sequences), np.array(y_sequences)\n",
    "\n",
    "    def stratified_group_kfold(self,train_data, n_splits=5):\n",
    "        group_to_fault = train_data.drop_duplicates('Id').set_index('Id')['Fault'].to_dict()\n",
    "        unique_groups = np.unique(train_data['Id'].values)\n",
    "        group_labels = [group_to_fault[group] for group in unique_groups]\n",
    "        strat_kfold = StratifiedKFold(n_splits=n_splits, shuffle=True)\n",
    "\n",
    "        for train_group_idx, valid_group_idx in strat_kfold.split(unique_groups, group_labels):\n",
    "            train_fold = train_data[train_data['Id'].isin(unique_groups[train_group_idx])]\n",
    "            valid_fold = train_data[train_data['Id'].isin(unique_groups[valid_group_idx])]\n",
    "            yield train_fold, valid_fold\n",
    "\n",
    "    def fit(self):\n",
    "        \n",
    "        best_val_acc = 0\n",
    "        best_model = None\n",
    "\n",
    "        for train_fold, val_fold in self.stratified_group_kfold(self.train, n_splits=5):\n",
    "            self.train = train_fold\n",
    "            self.val = val_fold\n",
    "            \n",
    "            # Scaling\n",
    "            self.scaler.fit(self.train.drop(['Id', 'Fault'], axis=1))\n",
    "\n",
    "            # Prepare Train and Validation data\n",
    "            self.X_val, self.y_val  = self.prepare_data(self.val)\n",
    "            X_train, y_train = self.prepare_data(self.train)\n",
    "            \n",
    "            # Model Resetleme\n",
    "            self.model = self.createLSTM()\n",
    "\n",
    "            early_stop = EarlyStopping(monitor='val_loss', patience=10, verbose=1, restore_best_weights=True)\n",
    "\n",
    "            # Training Model for this fold\n",
    "            history = self.model.fit(\n",
    "                X_train, y_train,\n",
    "                batch_size=self.batch,\n",
    "                epochs=self.epoch,\n",
    "                verbose=self.verbose,\n",
    "                validation_data=(self.X_val, self.y_val),\n",
    "                callbacks=[early_stop]\n",
    "            )\n",
    "            \n",
    "            current_val_acc = max(history.history['val_accuracy'])\n",
    "            \n",
    "            if current_val_acc > best_val_acc:\n",
    "                best_val_acc = current_val_acc\n",
    "                self.history = history\n",
    "                best_model = self.model\n",
    "\n",
    "        self.model = best_model\n",
    "        \n",
    "        print(f\"Train Fault Distribution{np.bincount(self.train['Fault'])}\")\n",
    "        print(f\"Validation Fault Distribution{np.bincount(self.val['Fault'])}\")\n",
    "        \n",
    "\n",
    "    def predict(self, data):\n",
    "        X_test, actual_labels = self.prepare_data(data)\n",
    "        prob = self.model.predict(X_test, verbose=1)\n",
    "        y_pred = np.argmax(prob, axis=1)\n",
    "        return y_pred, actual_labels\n",
    "    \n",
    "    \n",
    "    def plot_confusion_matrix(self, actual_labels_decoded, y_pred):\n",
    "            plt.figure(figsize=(10,6))\n",
    "            labels = [\"M000\",\"M2503\",\"M2506\",\"M2508\"]\n",
    "            cm = confusion_matrix(actual_labels_decoded, y_pred)\n",
    "            sns.heatmap(cm, annot=True, fmt='g', cmap='Blues', xticklabels=labels, yticklabels=labels)\n",
    "            plt.xlabel('Predicted Values')\n",
    "            plt.ylabel('Actual Values')\n",
    "            plt.title('Confusion Matrix')\n",
    "            plt.show()\n",
    "        \n",
    "    \n",
    "    def print_classification_report(self, actual_labels_decoded, y_pred):\n",
    "        print(\"Classification Report:\")\n",
    "        print(classification_report(actual_labels_decoded, y_pred))\n",
    "        \n",
    "        \n",
    "    def print_accuracy_metrics(self, actual_labels_decoded, y_pred):\n",
    "        accuracy = accuracy_score(actual_labels_decoded, y_pred)\n",
    "        precision = precision_score(actual_labels_decoded, y_pred, average='weighted')\n",
    "        recall = recall_score(actual_labels_decoded, y_pred, average='weighted')\n",
    "        f1 = f1_score(actual_labels_decoded, y_pred, average='weighted')\n",
    "\n",
    "        print(f'Test Accuracy: {accuracy}')\n",
    "        print(f'Weighted Precision: {precision}')\n",
    "        print(f'Weighted Recall: {recall}')\n",
    "        print(f'Weighted F1 Score: {f1}')\n",
    "        \n",
    "        \n",
    "    def plot_training_curves(self):\n",
    "        plt.figure(figsize=(10, 4))\n",
    "        \n",
    "        plt.subplot(1, 2, 1)\n",
    "        plt.plot(self.history.history['loss'], label='Train Loss')\n",
    "        plt.plot(self.history.history['val_loss'], label='Validation Loss')\n",
    "        plt.title('Training and Validation Loss')\n",
    "        plt.legend()\n",
    "        \n",
    "        plt.subplot(1, 2, 2)\n",
    "        plt.plot(self.history.history['accuracy'], label='Train Accuracy')\n",
    "        plt.plot(self.history.history['val_accuracy'], label='Validation Accuracy')\n",
    "        plt.title('Training and Validation Accuracy')\n",
    "        plt.legend()\n",
    "\n",
    "        plt.tight_layout()\n",
    "        plt.show()\n",
    "    \n",
    "    def evaluate(self, y_pred, actual_labels):\n",
    "        actual_labels_decoded = np.argmax(actual_labels, axis=1)\n",
    "        \n",
    "        self.plot_confusion_matrix(actual_labels_decoded, y_pred)\n",
    "        self.print_classification_report(actual_labels_decoded, y_pred)\n",
    "        self.print_accuracy_metrics(actual_labels_decoded, y_pred)\n",
    "        self.plot_training_curves()"
   ]
  },
  {
   "cell_type": "code",
   "execution_count": 13,
   "id": "f188ef22",
   "metadata": {
    "execution": {
     "iopub.execute_input": "2023-08-10T19:53:17.403896Z",
     "iopub.status.busy": "2023-08-10T19:53:17.402798Z",
     "iopub.status.idle": "2023-08-10T22:47:43.989650Z",
     "shell.execute_reply": "2023-08-10T22:47:43.988542Z"
    },
    "papermill": {
     "duration": 10480.746402,
     "end_time": "2023-08-10T22:47:58.140009",
     "exception": false,
     "start_time": "2023-08-10T19:53:17.393607",
     "status": "completed"
    },
    "tags": []
   },
   "outputs": [
    {
     "name": "stdout",
     "output_type": "stream",
     "text": [
      "Epoch 1/10\n",
      "3041/3041 [==============================] - 193s 62ms/step - loss: 0.0411 - accuracy: 0.9864 - val_loss: 0.0034 - val_accuracy: 0.9988\n",
      "Epoch 2/10\n",
      "3041/3041 [==============================] - 187s 62ms/step - loss: 0.0041 - accuracy: 0.9989 - val_loss: 0.0018 - val_accuracy: 0.9994\n",
      "Epoch 3/10\n",
      "3041/3041 [==============================] - 195s 64ms/step - loss: 0.0017 - accuracy: 0.9996 - val_loss: 2.8041e-05 - val_accuracy: 1.0000\n",
      "Epoch 4/10\n",
      "3041/3041 [==============================] - 195s 64ms/step - loss: 0.0015 - accuracy: 0.9996 - val_loss: 5.2252e-05 - val_accuracy: 1.0000\n",
      "Epoch 5/10\n",
      "3041/3041 [==============================] - 193s 64ms/step - loss: 0.0010 - accuracy: 0.9998 - val_loss: 1.0120e-05 - val_accuracy: 1.0000\n",
      "Epoch 6/10\n",
      "3041/3041 [==============================] - 198s 65ms/step - loss: 0.0018 - accuracy: 0.9996 - val_loss: 9.1651e-05 - val_accuracy: 1.0000\n",
      "Epoch 7/10\n",
      "3041/3041 [==============================] - 201s 66ms/step - loss: 5.8260e-04 - accuracy: 0.9999 - val_loss: 4.6478e-05 - val_accuracy: 1.0000\n",
      "Epoch 8/10\n",
      "3041/3041 [==============================] - 202s 66ms/step - loss: 8.2121e-04 - accuracy: 0.9998 - val_loss: 4.4474e-06 - val_accuracy: 1.0000\n",
      "Epoch 9/10\n",
      "3041/3041 [==============================] - 200s 66ms/step - loss: 9.9929e-04 - accuracy: 0.9997 - val_loss: 1.3374e-05 - val_accuracy: 1.0000\n",
      "Epoch 10/10\n",
      "3041/3041 [==============================] - 211s 69ms/step - loss: 9.7516e-04 - accuracy: 0.9998 - val_loss: 4.0219e-04 - val_accuracy: 0.9999\n",
      "Epoch 1/10\n",
      "3043/3043 [==============================] - 211s 69ms/step - loss: 0.0403 - accuracy: 0.9868 - val_loss: 0.0049 - val_accuracy: 0.9987\n",
      "Epoch 2/10\n",
      "3043/3043 [==============================] - 199s 65ms/step - loss: 0.0032 - accuracy: 0.9991 - val_loss: 1.4542e-04 - val_accuracy: 1.0000\n",
      "Epoch 3/10\n",
      "3043/3043 [==============================] - 199s 66ms/step - loss: 0.0024 - accuracy: 0.9994 - val_loss: 6.2331e-05 - val_accuracy: 1.0000\n",
      "Epoch 4/10\n",
      "3043/3043 [==============================] - 201s 66ms/step - loss: 0.0015 - accuracy: 0.9996 - val_loss: 6.9589e-05 - val_accuracy: 1.0000\n",
      "Epoch 5/10\n",
      "3043/3043 [==============================] - 204s 67ms/step - loss: 9.6204e-04 - accuracy: 0.9997 - val_loss: 1.2285e-04 - val_accuracy: 0.9999\n",
      "Epoch 6/10\n",
      "3043/3043 [==============================] - 212s 70ms/step - loss: 0.0019 - accuracy: 0.9995 - val_loss: 2.6460e-04 - val_accuracy: 0.9999\n",
      "Epoch 7/10\n",
      "3043/3043 [==============================] - 205s 68ms/step - loss: 8.4892e-04 - accuracy: 0.9998 - val_loss: 1.5732e-04 - val_accuracy: 1.0000\n",
      "Epoch 8/10\n",
      "3043/3043 [==============================] - 206s 68ms/step - loss: 8.0681e-04 - accuracy: 0.9998 - val_loss: 6.4345e-04 - val_accuracy: 0.9998\n",
      "Epoch 9/10\n",
      "3043/3043 [==============================] - 209s 69ms/step - loss: 4.1843e-04 - accuracy: 0.9999 - val_loss: 4.3323e-05 - val_accuracy: 1.0000\n",
      "Epoch 10/10\n",
      "3043/3043 [==============================] - 207s 68ms/step - loss: 6.1488e-04 - accuracy: 0.9998 - val_loss: 1.7366e-04 - val_accuracy: 1.0000\n",
      "Epoch 1/10\n",
      "3041/3041 [==============================] - 211s 69ms/step - loss: 0.0412 - accuracy: 0.9867 - val_loss: 0.0020 - val_accuracy: 0.9999\n",
      "Epoch 2/10\n",
      "3041/3041 [==============================] - 209s 69ms/step - loss: 0.0035 - accuracy: 0.9990 - val_loss: 5.5490e-04 - val_accuracy: 1.0000\n",
      "Epoch 3/10\n",
      "3041/3041 [==============================] - 208s 68ms/step - loss: 0.0022 - accuracy: 0.9994 - val_loss: 7.4045e-04 - val_accuracy: 0.9999\n",
      "Epoch 4/10\n",
      "3041/3041 [==============================] - 211s 69ms/step - loss: 0.0015 - accuracy: 0.9996 - val_loss: 5.0274e-04 - val_accuracy: 0.9999\n",
      "Epoch 5/10\n",
      "3041/3041 [==============================] - 212s 70ms/step - loss: 0.0010 - accuracy: 0.9998 - val_loss: 0.0023 - val_accuracy: 0.9994\n",
      "Epoch 6/10\n",
      "3041/3041 [==============================] - 211s 69ms/step - loss: 0.0011 - accuracy: 0.9997 - val_loss: 3.5298e-05 - val_accuracy: 1.0000\n",
      "Epoch 7/10\n",
      "3041/3041 [==============================] - 228s 75ms/step - loss: 0.0026 - accuracy: 0.9995 - val_loss: 2.2210e-05 - val_accuracy: 1.0000\n",
      "Epoch 8/10\n",
      "3041/3041 [==============================] - 211s 69ms/step - loss: 6.0621e-04 - accuracy: 0.9999 - val_loss: 4.3100e-05 - val_accuracy: 1.0000\n",
      "Epoch 9/10\n",
      "3041/3041 [==============================] - 216s 71ms/step - loss: 5.7935e-04 - accuracy: 0.9998 - val_loss: 2.1110e-06 - val_accuracy: 1.0000\n",
      "Epoch 10/10\n",
      "3041/3041 [==============================] - 213s 70ms/step - loss: 1.0586e-05 - accuracy: 1.0000 - val_loss: 4.9720e-07 - val_accuracy: 1.0000\n",
      "Epoch 1/10\n",
      "3044/3044 [==============================] - 211s 69ms/step - loss: 0.0381 - accuracy: 0.9877 - val_loss: 0.0084 - val_accuracy: 0.9991\n",
      "Epoch 2/10\n",
      "3044/3044 [==============================] - 207s 68ms/step - loss: 0.0031 - accuracy: 0.9991 - val_loss: 0.0050 - val_accuracy: 0.9992\n",
      "Epoch 3/10\n",
      "3044/3044 [==============================] - 207s 68ms/step - loss: 0.0018 - accuracy: 0.9995 - val_loss: 0.0098 - val_accuracy: 0.9991\n",
      "Epoch 4/10\n",
      "3044/3044 [==============================] - 202s 66ms/step - loss: 0.0015 - accuracy: 0.9996 - val_loss: 0.0097 - val_accuracy: 0.9991\n",
      "Epoch 5/10\n",
      "3044/3044 [==============================] - 206s 68ms/step - loss: 4.0721e-04 - accuracy: 0.9999 - val_loss: 0.0109 - val_accuracy: 0.9992\n",
      "Epoch 6/10\n",
      "3044/3044 [==============================] - 196s 64ms/step - loss: 0.0011 - accuracy: 0.9998 - val_loss: 0.0090 - val_accuracy: 0.9992\n",
      "Epoch 7/10\n",
      "3044/3044 [==============================] - 204s 67ms/step - loss: 7.3389e-04 - accuracy: 0.9998 - val_loss: 0.0123 - val_accuracy: 0.9982\n",
      "Epoch 8/10\n",
      "3044/3044 [==============================] - 200s 66ms/step - loss: 7.6342e-04 - accuracy: 0.9998 - val_loss: 0.0093 - val_accuracy: 0.9992\n",
      "Epoch 9/10\n",
      "3044/3044 [==============================] - 206s 68ms/step - loss: 5.8193e-04 - accuracy: 0.9998 - val_loss: 0.0108 - val_accuracy: 0.9992\n",
      "Epoch 10/10\n",
      "3044/3044 [==============================] - 202s 66ms/step - loss: 8.7336e-04 - accuracy: 0.9998 - val_loss: 0.0106 - val_accuracy: 0.9992\n",
      "Epoch 1/10\n",
      "3044/3044 [==============================] - 209s 69ms/step - loss: 0.0374 - accuracy: 0.9883 - val_loss: 0.0060 - val_accuracy: 0.9982\n",
      "Epoch 2/10\n",
      "3044/3044 [==============================] - 202s 66ms/step - loss: 0.0032 - accuracy: 0.9991 - val_loss: 0.0053 - val_accuracy: 0.9987\n",
      "Epoch 3/10\n",
      "3044/3044 [==============================] - 207s 68ms/step - loss: 0.0025 - accuracy: 0.9993 - val_loss: 0.0021 - val_accuracy: 0.9994\n",
      "Epoch 4/10\n",
      "3044/3044 [==============================] - 202s 66ms/step - loss: 0.0019 - accuracy: 0.9995 - val_loss: 0.0244 - val_accuracy: 0.9938\n",
      "Epoch 5/10\n",
      "3044/3044 [==============================] - 214s 70ms/step - loss: 0.0010 - accuracy: 0.9997 - val_loss: 0.0018 - val_accuracy: 0.9994\n",
      "Epoch 6/10\n",
      "3044/3044 [==============================] - 204s 67ms/step - loss: 0.0011 - accuracy: 0.9997 - val_loss: 0.0079 - val_accuracy: 0.9977\n",
      "Epoch 7/10\n",
      "3044/3044 [==============================] - 212s 70ms/step - loss: 5.3545e-04 - accuracy: 0.9998 - val_loss: 0.0012 - val_accuracy: 0.9997\n",
      "Epoch 8/10\n",
      "3044/3044 [==============================] - 204s 67ms/step - loss: 8.6199e-04 - accuracy: 0.9998 - val_loss: 0.0013 - val_accuracy: 0.9997\n",
      "Epoch 9/10\n",
      "3044/3044 [==============================] - 213s 70ms/step - loss: 8.7007e-04 - accuracy: 0.9998 - val_loss: 0.0018 - val_accuracy: 0.9997\n",
      "Epoch 10/10\n",
      "3044/3044 [==============================] - 207s 68ms/step - loss: 4.2731e-04 - accuracy: 0.9998 - val_loss: 1.6568e-04 - val_accuracy: 0.9999\n",
      "Train Fault Distribution[62634 61310 51686 57133]\n",
      "Validation Fault Distribution[15815 15484 12714 14068]\n"
     ]
    }
   ],
   "source": [
    "model = LSTMClassifier(train_data, test_data, window_size=20,epoch=10,batch=64,verbose=1)\n",
    "model.fit()"
   ]
  },
  {
   "cell_type": "code",
   "execution_count": 14,
   "id": "c40f5453",
   "metadata": {
    "execution": {
     "iopub.execute_input": "2023-08-10T22:48:25.312452Z",
     "iopub.status.busy": "2023-08-10T22:48:25.312014Z",
     "iopub.status.idle": "2023-08-10T22:49:55.776917Z",
     "shell.execute_reply": "2023-08-10T22:49:55.775720Z"
    },
    "papermill": {
     "duration": 104.054715,
     "end_time": "2023-08-10T22:49:55.779688",
     "exception": false,
     "start_time": "2023-08-10T22:48:11.724973",
     "status": "completed"
    },
    "tags": []
   },
   "outputs": [
    {
     "name": "stdout",
     "output_type": "stream",
     "text": [
      "3921/3921 [==============================] - 70s 18ms/step\n"
     ]
    }
   ],
   "source": [
    "y_pred, actual_labels = model.predict(test_data)"
   ]
  },
  {
   "cell_type": "code",
   "execution_count": 15,
   "id": "174549e3",
   "metadata": {
    "execution": {
     "iopub.execute_input": "2023-08-10T22:50:23.257088Z",
     "iopub.status.busy": "2023-08-10T22:50:23.256613Z",
     "iopub.status.idle": "2023-08-10T22:50:24.628732Z",
     "shell.execute_reply": "2023-08-10T22:50:24.627653Z"
    },
    "papermill": {
     "duration": 14.790016,
     "end_time": "2023-08-10T22:50:24.632215",
     "exception": false,
     "start_time": "2023-08-10T22:50:09.842199",
     "status": "completed"
    },
    "tags": []
   },
   "outputs": [
    {
     "data": {
      "image/png": "[encoded data removed]",
      "text/plain": [
       "<Figure size 1000x600 with 2 Axes>"
      ]
     },
     "metadata": {},
     "output_type": "display_data"
    },
    {
     "name": "stdout",
     "output_type": "stream",
     "text": [
      "Classification Report:\n",
      "              precision    recall  f1-score   support\n",
      "\n",
      "           0       1.00      1.00      1.00     34381\n",
      "           1       1.00      1.00      1.00     33440\n",
      "           2       1.00      1.00      1.00     27028\n",
      "           3       1.00      1.00      1.00     30614\n",
      "\n",
      "    accuracy                           1.00    125463\n",
      "   macro avg       1.00      1.00      1.00    125463\n",
      "weighted avg       1.00      1.00      1.00    125463\n",
      "\n",
      "Test Accuracy: 0.9994898894494791\n",
      "Weighted Precision: 0.9994905990847313\n",
      "Weighted Recall: 0.9994898894494791\n",
      "Weighted F1 Score: 0.999489931704724\n"
     ]
    },
    {
     "data": {
      "image/png": "[encoded data removed]",
      "text/plain": [
       "<Figure size 1000x400 with 2 Axes>"
      ]
     },
     "metadata": {},
     "output_type": "display_data"
    }
   ],
   "source": [
    "model.evaluate(y_pred, actual_labels)\n"
   ]
  }
 ],
 "metadata": {
  "kernelspec": {
   "display_name": "Python 3",
   "language": "python",
   "name": "python3"
  },
  "language_info": {
   "codemirror_mode": {
    "name": "ipython",
    "version": 3
   },
   "file_extension": ".py",
   "mimetype": "text/x-python",
   "name": "python",
   "nbconvert_exporter": "python",
   "pygments_lexer": "ipython3",
   "version": "3.10.12"
  },
  "papermill": {
   "default_parameters": {},
   "duration": 10836.81946,
   "end_time": "2023-08-10T22:50:42.380300",
   "environment_variables": {},
   "exception": null,
   "input_path": "__notebook__.ipynb",
   "output_path": "__notebook__.ipynb",
   "parameters": {},
   "start_time": "2023-08-10T19:50:05.560840",
   "version": "2.4.0"
  }
 },
 "nbformat": 4,
 "nbformat_minor": 5
}
