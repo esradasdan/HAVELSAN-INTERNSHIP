{
 "cells": [
  {
   "cell_type": "code",
   "execution_count": 1,
   "id": "e84d74c8",
   "metadata": {
    "_cell_guid": "b1076dfc-b9ad-4769-8c92-a6c4dae69d19",
    "_uuid": "8f2839f25d086af736a60e9eeb907d3b93b6e0e5",
    "execution": {
     "iopub.execute_input": "2023-08-08T19:48:55.363484Z",
     "iopub.status.busy": "2023-08-08T19:48:55.363030Z",
     "iopub.status.idle": "2023-08-08T19:49:07.687939Z",
     "shell.execute_reply": "2023-08-08T19:49:07.686351Z"
    },
    "papermill": {
     "duration": 12.339511,
     "end_time": "2023-08-08T19:49:07.691126",
     "exception": false,
     "start_time": "2023-08-08T19:48:55.351615",
     "status": "completed"
    },
    "tags": []
   },
   "outputs": [
    {
     "name": "stderr",
     "output_type": "stream",
     "text": [
      "/opt/conda/lib/python3.10/site-packages/scipy/__init__.py:146: UserWarning: A NumPy version >=1.16.5 and <1.23.0 is required for this version of SciPy (detected version 1.23.5\n",
      "  warnings.warn(f\"A NumPy version >={np_minversion} and <{np_maxversion}\"\n",
      "/opt/conda/lib/python3.10/site-packages/tensorflow_io/python/ops/__init__.py:98: UserWarning: unable to load libtensorflow_io_plugins.so: unable to open file: libtensorflow_io_plugins.so, from paths: ['/opt/conda/lib/python3.10/site-packages/tensorflow_io/python/ops/libtensorflow_io_plugins.so']\n",
      "caused by: ['/opt/conda/lib/python3.10/site-packages/tensorflow_io/python/ops/libtensorflow_io_plugins.so: undefined symbol: _ZN3tsl6StatusC1EN10tensorflow5error4CodeESt17basic_string_viewIcSt11char_traitsIcEENS_14SourceLocationE']\n",
      "  warnings.warn(f\"unable to load libtensorflow_io_plugins.so: {e}\")\n",
      "/opt/conda/lib/python3.10/site-packages/tensorflow_io/python/ops/__init__.py:104: UserWarning: file system plugins are not loaded: unable to open file: libtensorflow_io.so, from paths: ['/opt/conda/lib/python3.10/site-packages/tensorflow_io/python/ops/libtensorflow_io.so']\n",
      "caused by: ['/opt/conda/lib/python3.10/site-packages/tensorflow_io/python/ops/libtensorflow_io.so: undefined symbol: _ZTVN10tensorflow13GcsFileSystemE']\n",
      "  warnings.warn(f\"file system plugins are not loaded: {e}\")\n"
     ]
    },
    {
     "name": "stdout",
     "output_type": "stream",
     "text": [
      "/kaggle/input/mc90v-full/M2508_train_sensors.csv\n",
      "/kaggle/input/mc90v-full/M2508_test_sensors.csv\n",
      "/kaggle/input/mc90v-full/M2508_train_full.csv\n",
      "/kaggle/input/mc90v-full/M2503_test_full.csv\n",
      "/kaggle/input/mc90v-full/M2503_train_full.csv\n",
      "/kaggle/input/mc90v-full/M0000_test_sensors.csv\n",
      "/kaggle/input/mc90v-full/M2503_train_sensors.csv\n",
      "/kaggle/input/mc90v-full/M2506_test_full.csv\n",
      "/kaggle/input/mc90v-full/M0000_train_full.csv\n",
      "/kaggle/input/mc90v-full/M0000_test_full.csv\n",
      "/kaggle/input/mc90v-full/M2506_train_sensors.csv\n",
      "/kaggle/input/mc90v-full/M2506_train_full.csv\n",
      "/kaggle/input/mc90v-full/M2503_test_sensors.csv\n",
      "/kaggle/input/mc90v-full/M0000_train_sensors.csv\n",
      "/kaggle/input/mc90v-full/M2506_test_sensors.csv\n",
      "/kaggle/input/mc90v-full/M2508_test_full.csv\n"
     ]
    }
   ],
   "source": [
    "import numpy as np \n",
    "import pandas as pd \n",
    "import matplotlib.pyplot as plt\n",
    "import seaborn as sns\n",
    "from sklearn.preprocessing import StandardScaler\n",
    "from keras.models import Sequential\n",
    "from tensorflow.keras.layers import TimeDistributed\n",
    "from keras.layers import LSTM, Dense, Dropout\n",
    "from keras.optimizers import Adam\n",
    "from sklearn.metrics import accuracy_score, precision_score, recall_score, f1_score, confusion_matrix, classification_report\n",
    "import pickle\n",
    "from sklearn.model_selection import GroupKFold, KFold\n",
    "from tensorflow.keras.callbacks import LambdaCallback\n",
    "from tensorflow.keras.utils import to_categorical\n",
    "from keras.callbacks import EarlyStopping\n",
    "import tensorflow as tf\n",
    "tf.config.run_functions_eagerly(True)\n",
    "from keras.utils import plot_model\n",
    "\n",
    "\n",
    "import warnings\n",
    "warnings.filterwarnings('ignore')\n",
    "\n",
    "import os\n",
    "for dirname, _, filenames in os.walk('/kaggle/input'):\n",
    "    for filename in filenames:\n",
    "        print(os.path.join(dirname, filename))"
   ]
  },
  {
   "cell_type": "markdown",
   "id": "07a0be32",
   "metadata": {
    "papermill": {
     "duration": 0.008367,
     "end_time": "2023-08-08T19:49:07.708726",
     "exception": false,
     "start_time": "2023-08-08T19:49:07.700359",
     "status": "completed"
    },
    "tags": []
   },
   "source": [
    "### Read Data"
   ]
  },
  {
   "cell_type": "code",
   "execution_count": 2,
   "id": "301c9f23",
   "metadata": {
    "execution": {
     "iopub.execute_input": "2023-08-08T19:49:07.729205Z",
     "iopub.status.busy": "2023-08-08T19:49:07.727962Z",
     "iopub.status.idle": "2023-08-08T19:50:03.110410Z",
     "shell.execute_reply": "2023-08-08T19:50:03.109422Z"
    },
    "papermill": {
     "duration": 55.395683,
     "end_time": "2023-08-08T19:50:03.113078",
     "exception": false,
     "start_time": "2023-08-08T19:49:07.717395",
     "status": "completed"
    },
    "tags": []
   },
   "outputs": [],
   "source": [
    "m0000_train = pd.read_csv('/kaggle/input/mc90v-full/M0000_train_sensors.csv')\n",
    "m0000_test = pd.read_csv('/kaggle/input/mc90v-full/M0000_test_sensors.csv')\n",
    "m2503_train = pd.read_csv('/kaggle/input/mc90v-full/M2503_train_sensors.csv')\n",
    "m2503_test = pd.read_csv('/kaggle/input/mc90v-full/M2503_test_sensors.csv')\n",
    "m2506_train = pd.read_csv('/kaggle/input/mc90v-full/M2506_train_sensors.csv')\n",
    "m2506_test = pd.read_csv('/kaggle/input/mc90v-full/M2506_test_sensors.csv')\n",
    "m2508_train = pd.read_csv('/kaggle/input/mc90v-full/M2508_train_sensors.csv')\n",
    "m2508_test = pd.read_csv('/kaggle/input/mc90v-full/M2508_test_sensors.csv')"
   ]
  },
  {
   "cell_type": "markdown",
   "id": "0baed359",
   "metadata": {
    "papermill": {
     "duration": 0.008604,
     "end_time": "2023-08-08T19:50:03.130659",
     "exception": false,
     "start_time": "2023-08-08T19:50:03.122055",
     "status": "completed"
    },
    "tags": []
   },
   "source": [
    "### Preprocessing"
   ]
  },
  {
   "cell_type": "code",
   "execution_count": 3,
   "id": "a2a627eb",
   "metadata": {
    "execution": {
     "iopub.execute_input": "2023-08-08T19:50:03.150689Z",
     "iopub.status.busy": "2023-08-08T19:50:03.149999Z",
     "iopub.status.idle": "2023-08-08T19:50:03.157494Z",
     "shell.execute_reply": "2023-08-08T19:50:03.156065Z"
    },
    "papermill": {
     "duration": 0.020966,
     "end_time": "2023-08-08T19:50:03.160311",
     "exception": false,
     "start_time": "2023-08-08T19:50:03.139345",
     "status": "completed"
    },
    "tags": []
   },
   "outputs": [],
   "source": [
    "def resample(df):\n",
    "    df = df.interpolate().fillna(df.mean())\n",
    "    df = df.groupby(df.index // 10).mean()\n",
    "    return df\n",
    "\n",
    "def prep(df):\n",
    "    \n",
    "    df = df.drop('Linear', axis =1)\n",
    "\n",
    "    df['Id'] = df.groupby(['Class', 'RunId', 'Load','SeaTemp', 'WindSpeed']).ngroup() + 1\n",
    "    df = df.groupby(['Class', 'RunId', 'Load','SeaTemp', 'WindSpeed']).apply(resample)\n",
    "\n",
    "    return df"
   ]
  },
  {
   "cell_type": "markdown",
   "id": "d2bc28da",
   "metadata": {
    "execution": {
     "iopub.execute_input": "2023-08-08T08:06:09.244021Z",
     "iopub.status.busy": "2023-08-08T08:06:09.242994Z",
     "iopub.status.idle": "2023-08-08T08:06:09.261180Z",
     "shell.execute_reply": "2023-08-08T08:06:09.260143Z",
     "shell.execute_reply.started": "2023-08-08T08:06:09.243967Z"
    },
    "papermill": {
     "duration": 0.008703,
     "end_time": "2023-08-08T19:50:03.178231",
     "exception": false,
     "start_time": "2023-08-08T19:50:03.169528",
     "status": "completed"
    },
    "tags": []
   },
   "source": [
    "### Target Values"
   ]
  },
  {
   "cell_type": "code",
   "execution_count": 4,
   "id": "abe6a187",
   "metadata": {
    "execution": {
     "iopub.execute_input": "2023-08-08T19:50:03.199755Z",
     "iopub.status.busy": "2023-08-08T19:50:03.199309Z",
     "iopub.status.idle": "2023-08-08T19:50:03.223054Z",
     "shell.execute_reply": "2023-08-08T19:50:03.221574Z"
    },
    "papermill": {
     "duration": 0.037182,
     "end_time": "2023-08-08T19:50:03.225809",
     "exception": false,
     "start_time": "2023-08-08T19:50:03.188627",
     "status": "completed"
    },
    "tags": []
   },
   "outputs": [],
   "source": [
    "m0000_train['Class'] = 0\n",
    "m2503_train['Class'] = 1\n",
    "m2506_train['Class'] = 2\n",
    "m2508_train['Class'] = 3\n",
    "\n",
    "m0000_test['Class'] = 0\n",
    "m2503_test['Class'] = 1\n",
    "m2506_test['Class'] = 2\n",
    "m2508_test['Class'] = 3"
   ]
  },
  {
   "cell_type": "markdown",
   "id": "70e68a1f",
   "metadata": {
    "papermill": {
     "duration": 0.009245,
     "end_time": "2023-08-08T19:50:03.244020",
     "exception": false,
     "start_time": "2023-08-08T19:50:03.234775",
     "status": "completed"
    },
    "tags": []
   },
   "source": [
    "### Train & Test & Val"
   ]
  },
  {
   "cell_type": "code",
   "execution_count": 5,
   "id": "2425942f",
   "metadata": {
    "execution": {
     "iopub.execute_input": "2023-08-08T19:50:03.263908Z",
     "iopub.status.busy": "2023-08-08T19:50:03.263438Z",
     "iopub.status.idle": "2023-08-08T19:50:04.913911Z",
     "shell.execute_reply": "2023-08-08T19:50:04.912442Z"
    },
    "papermill": {
     "duration": 1.664023,
     "end_time": "2023-08-08T19:50:04.916851",
     "exception": false,
     "start_time": "2023-08-08T19:50:03.252828",
     "status": "completed"
    },
    "tags": []
   },
   "outputs": [],
   "source": [
    "train = pd.concat([m0000_train, m2503_train, m2506_train, m2508_train])\n",
    "test = pd.concat([m0000_test, m2503_test, m2506_test, m2508_test])"
   ]
  },
  {
   "cell_type": "code",
   "execution_count": 7,
   "id": "2a565442",
   "metadata": {
    "execution": {
     "iopub.execute_input": "2023-08-08T19:50:06.601409Z",
     "iopub.status.busy": "2023-08-08T19:50:06.600744Z",
     "iopub.status.idle": "2023-08-08T19:52:34.046319Z",
     "shell.execute_reply": "2023-08-08T19:52:34.043844Z"
    },
    "papermill": {
     "duration": 147.460929,
     "end_time": "2023-08-08T19:52:34.050305",
     "exception": false,
     "start_time": "2023-08-08T19:50:06.589376",
     "status": "completed"
    },
    "tags": []
   },
   "outputs": [],
   "source": [
    "train_data = prep(train)\n",
    "test_data = prep(test)"
   ]
  },
  {
   "cell_type": "code",
   "execution_count": 9,
   "id": "7c9cf2b2",
   "metadata": {
    "execution": {
     "iopub.execute_input": "2023-08-08T19:52:34.249347Z",
     "iopub.status.busy": "2023-08-08T19:52:34.248811Z",
     "iopub.status.idle": "2023-08-08T19:52:34.864760Z",
     "shell.execute_reply": "2023-08-08T19:52:34.863197Z"
    },
    "papermill": {
     "duration": 0.633489,
     "end_time": "2023-08-08T19:52:34.868348",
     "exception": false,
     "start_time": "2023-08-08T19:52:34.234859",
     "status": "completed"
    },
    "tags": []
   },
   "outputs": [],
   "source": [
    "train_data['Id'] = train_data['Id'].astype(int)\n",
    "train_data = train_data.drop(['RunId','Class'],axis=1).reset_index()\n",
    "train_data['Class'] = train_data['Class'].astype(int)\n",
    "train_data = pd.get_dummies(train_data.drop(['RunId','level_5'],axis=1))"
   ]
  },
  {
   "cell_type": "code",
   "execution_count": 11,
   "id": "89c36a22",
   "metadata": {
    "execution": {
     "iopub.execute_input": "2023-08-08T19:52:35.015484Z",
     "iopub.status.busy": "2023-08-08T19:52:35.014953Z",
     "iopub.status.idle": "2023-08-08T19:52:35.024584Z",
     "shell.execute_reply": "2023-08-08T19:52:35.022268Z"
    },
    "papermill": {
     "duration": 0.031392,
     "end_time": "2023-08-08T19:52:35.027671",
     "exception": false,
     "start_time": "2023-08-08T19:52:34.996279",
     "status": "completed"
    },
    "tags": []
   },
   "outputs": [],
   "source": [
    "def train_shuffle(data):\n",
    "    \n",
    "    grouped_data = data.groupby('Id', group_keys=False)\n",
    "    id_list = grouped_data.apply(lambda x: x.iloc[0])['Id'].tolist()\n",
    "    np.random.shuffle(id_list)\n",
    "    \n",
    "    shuffled_data = pd.concat([grouped_data.get_group(id_val) for id_val in id_list])\n",
    "    \n",
    "    return shuffled_data"
   ]
  },
  {
   "cell_type": "code",
   "execution_count": 12,
   "id": "3274a0cc",
   "metadata": {
    "execution": {
     "iopub.execute_input": "2023-08-08T19:52:35.056925Z",
     "iopub.status.busy": "2023-08-08T19:52:35.055249Z",
     "iopub.status.idle": "2023-08-08T19:52:37.616450Z",
     "shell.execute_reply": "2023-08-08T19:52:37.614178Z"
    },
    "papermill": {
     "duration": 2.579033,
     "end_time": "2023-08-08T19:52:37.620050",
     "exception": false,
     "start_time": "2023-08-08T19:52:35.041017",
     "status": "completed"
    },
    "tags": []
   },
   "outputs": [],
   "source": [
    "train_data = train_shuffle(train_data)"
   ]
  },
  {
   "cell_type": "code",
   "execution_count": 13,
   "id": "864fd16a",
   "metadata": {
    "execution": {
     "iopub.execute_input": "2023-08-08T19:52:37.649027Z",
     "iopub.status.busy": "2023-08-08T19:52:37.648456Z",
     "iopub.status.idle": "2023-08-08T19:52:37.658179Z",
     "shell.execute_reply": "2023-08-08T19:52:37.656333Z"
    },
    "papermill": {
     "duration": 0.027576,
     "end_time": "2023-08-08T19:52:37.661062",
     "exception": false,
     "start_time": "2023-08-08T19:52:37.633486",
     "status": "completed"
    },
    "tags": []
   },
   "outputs": [],
   "source": [
    "def train_val_split(train_data):\n",
    "\n",
    "    groups = [group for _, group in train_data.groupby('Id')]\n",
    "\n",
    "    val_size = int(0.2 * len(train_data))\n",
    "    val_data = pd.DataFrame()\n",
    "    remaining_data = pd.DataFrame()\n",
    "\n",
    "    accumulated_val_size = 0\n",
    "    for group in groups:\n",
    "        if accumulated_val_size + len(group) <= val_size:\n",
    "            val_data = pd.concat([val_data, group])\n",
    "            accumulated_val_size += len(group)\n",
    "        else:\n",
    "            remaining_data = pd.concat([remaining_data, group])\n",
    "\n",
    "    train_data = remaining_data\n",
    "\n",
    "    return train_data, val_data\n",
    "    "
   ]
  },
  {
   "cell_type": "code",
   "execution_count": 14,
   "id": "6d488239",
   "metadata": {
    "execution": {
     "iopub.execute_input": "2023-08-08T19:52:37.691685Z",
     "iopub.status.busy": "2023-08-08T19:52:37.691217Z",
     "iopub.status.idle": "2023-08-08T19:53:33.607510Z",
     "shell.execute_reply": "2023-08-08T19:53:33.606034Z"
    },
    "papermill": {
     "duration": 55.935948,
     "end_time": "2023-08-08T19:53:33.611078",
     "exception": false,
     "start_time": "2023-08-08T19:52:37.675130",
     "status": "completed"
    },
    "tags": []
   },
   "outputs": [],
   "source": [
    "train_data, val_data = train_val_split(train_data)"
   ]
  },
  {
   "cell_type": "code",
   "execution_count": 17,
   "id": "832fd429",
   "metadata": {
    "execution": {
     "iopub.execute_input": "2023-08-08T19:53:33.828721Z",
     "iopub.status.busy": "2023-08-08T19:53:33.828293Z",
     "iopub.status.idle": "2023-08-08T19:53:34.100371Z",
     "shell.execute_reply": "2023-08-08T19:53:34.098501Z"
    },
    "papermill": {
     "duration": 0.292405,
     "end_time": "2023-08-08T19:53:34.104074",
     "exception": false,
     "start_time": "2023-08-08T19:53:33.811669",
     "status": "completed"
    },
    "tags": []
   },
   "outputs": [],
   "source": [
    "test_data['Id'] = test_data['Id'].astype(int)\n",
    "test_data = test_data.drop(['RunId','Class'],axis=1).reset_index()\n",
    "test_data['Class'] = test_data['Class'].astype(int)\n",
    "test_data = pd.get_dummies(test_data.drop(['RunId','level_5'],axis=1))"
   ]
  },
  {
   "cell_type": "code",
   "execution_count": 19,
   "id": "0b8076d7",
   "metadata": {
    "execution": {
     "iopub.execute_input": "2023-08-08T19:53:34.242989Z",
     "iopub.status.busy": "2023-08-08T19:53:34.241895Z",
     "iopub.status.idle": "2023-08-08T19:53:34.250933Z",
     "shell.execute_reply": "2023-08-08T19:53:34.249028Z"
    },
    "papermill": {
     "duration": 0.030412,
     "end_time": "2023-08-08T19:53:34.253768",
     "exception": false,
     "start_time": "2023-08-08T19:53:34.223356",
     "status": "completed"
    },
    "tags": []
   },
   "outputs": [
    {
     "name": "stdout",
     "output_type": "stream",
     "text": [
      "Train size: 232677\n",
      "Test size: 149897\n",
      "Validation size: 58167\n"
     ]
    }
   ],
   "source": [
    "print(f\"Train size: {len(train_data)}\")\n",
    "print(f\"Test size: {len(test_data)}\")\n",
    "print(f\"Validation size: {len(val_data)}\")\n"
   ]
  },
  {
   "cell_type": "markdown",
   "id": "66bb3b71",
   "metadata": {
    "papermill": {
     "duration": 0.014986,
     "end_time": "2023-08-08T19:53:34.282925",
     "exception": false,
     "start_time": "2023-08-08T19:53:34.267939",
     "status": "completed"
    },
    "tags": []
   },
   "source": [
    "### Model"
   ]
  },
  {
   "cell_type": "code",
   "execution_count": 20,
   "id": "a5de0a0c",
   "metadata": {
    "execution": {
     "iopub.execute_input": "2023-08-08T19:53:34.318659Z",
     "iopub.status.busy": "2023-08-08T19:53:34.317668Z",
     "iopub.status.idle": "2023-08-08T19:53:34.356574Z",
     "shell.execute_reply": "2023-08-08T19:53:34.355188Z"
    },
    "papermill": {
     "duration": 0.060734,
     "end_time": "2023-08-08T19:53:34.360175",
     "exception": false,
     "start_time": "2023-08-08T19:53:34.299441",
     "status": "completed"
    },
    "tags": []
   },
   "outputs": [],
   "source": [
    "import numpy as np\n",
    "import tensorflow as tf\n",
    "from tensorflow.keras.models import Sequential\n",
    "from tensorflow.keras.layers import LSTM, Dropout, Dense\n",
    "from tensorflow.keras.callbacks import LambdaCallback, EarlyStopping\n",
    "from tensorflow.keras.optimizers import Adam\n",
    "from tensorflow.keras.utils import to_categorical\n",
    "from sklearn.preprocessing import StandardScaler\n",
    "\n",
    "class LSTMClassifier():\n",
    "    def __init__(self, train, test, validation, window_size=10, batch=32, epoch=100, verbose=1):\n",
    "        tf.config.run_functions_eagerly(True)\n",
    "\n",
    "        self.train = train\n",
    "        self.test = test\n",
    "        self.val = validation\n",
    "        self.window_size = window_size\n",
    "        self.num_classes = 4\n",
    "        self.num_features = 52\n",
    "        self.batch = batch\n",
    "        self.epoch = epoch\n",
    "        self.verbose = verbose\n",
    "        self.scaler = StandardScaler()\n",
    "        self.model = self.createLSTM()\n",
    "        self.history = None\n",
    "\n",
    "    def createLSTM(self):\n",
    "        \n",
    "        # Creates LSTM Model\n",
    "        model = Sequential()\n",
    "        model.add(LSTM(units=64, input_shape=(self.window_size, self.num_features), return_sequences=True))\n",
    "        model.add(Dropout(0.2))\n",
    "        model.add(LSTM(units=32))\n",
    "        model.add(Dropout(0.2))\n",
    "        model.add(Dense(units=self.num_classes, activation='softmax'))\n",
    "        model.compile(loss='categorical_crossentropy', optimizer=Adam(lr=0.001), metrics=['accuracy'], run_eagerly=True)\n",
    "        return model\n",
    "\n",
    "    def prepare_data(self, data):\n",
    "        \n",
    "        # Prepares the dataset with feature scaling, windowing and transformation\n",
    "        X_sequences, y_sequences = [], []\n",
    "\n",
    "        for run in np.unique(data['Id']):\n",
    "            sub_data = data[data['Id'] == run].drop('Id',axis=1)\n",
    "            X = self.scaler.transform(sub_data.drop('Class',axis=1))\n",
    "            y = to_categorical(sub_data['Class'], self.num_classes)\n",
    "            \n",
    "            for i in range(len(X) - self.window_size + 1):\n",
    "                X_sequences.append(X[i:i+self.window_size])\n",
    "                y_sequences.append(y[i+self.window_size-1])\n",
    "\n",
    "        return np.array(X_sequences), np.array(y_sequences)\n",
    "    \n",
    "\n",
    "    def fit(self):\n",
    "        \n",
    "        # Scaling\n",
    "        self.scaler.fit(self.train.drop(['Id', 'Class'], axis=1))\n",
    "\n",
    "        # Prepare Train and Validation data\n",
    "        self.X_val, self.y_val = self.prepare_data(self.val)\n",
    "        X_train, y_train = self.prepare_data(self.train)\n",
    "\n",
    "        early_stop = EarlyStopping(monitor='val_loss', patience=10, verbose=1, restore_best_weights=True)\n",
    "\n",
    "        # Training Model\n",
    "        self.history = self.model.fit(\n",
    "            X_train, y_train,\n",
    "            batch_size=self.batch,\n",
    "            epochs=self.epoch,\n",
    "            verbose=self.verbose,\n",
    "            validation_data=(self.X_val, self.y_val),\n",
    "            callbacks=[early_stop]\n",
    "        )\n",
    "\n",
    "     \n",
    "    def predict(self, data):\n",
    "        \n",
    "        X_test, actual_labels = self.prepare_data(data)\n",
    "        \n",
    "        prob = self.model.predict(X_test, verbose=1)\n",
    "        y_pred = np.argmax(prob, axis=1)\n",
    "        print(len(y_pred), len(actual_labels))\n",
    "\n",
    "        return y_pred, actual_labels\n",
    "    \n",
    "    \n",
    "    def plot_confusion_matrix(self, actual_labels_decoded, y_pred):\n",
    "        plt.figure(figsize=(10,6))\n",
    "        labels = [\"M000\",\"M2503\",\"M2506\",\"M2508\"]\n",
    "        cm = confusion_matrix(actual_labels_decoded, y_pred)\n",
    "        sns.heatmap(cm, annot=True, fmt='g', cmap='Blues', xticklabels=labels, yticklabels=labels)\n",
    "        plt.xlabel('Predicted Values')\n",
    "        plt.ylabel('Actual Values')\n",
    "        plt.title('Confusion Matrix')\n",
    "        plt.show()\n",
    "        \n",
    "    \n",
    "    def print_classification_report(self, actual_labels_decoded, y_pred):\n",
    "        print(\"Classification Report:\")\n",
    "        print(classification_report(actual_labels_decoded, y_pred))\n",
    "        \n",
    "        \n",
    "    def print_accuracy_metrics(self, actual_labels_decoded, y_pred):\n",
    "        accuracy = accuracy_score(actual_labels_decoded, y_pred)\n",
    "        precision = precision_score(actual_labels_decoded, y_pred, average='weighted')\n",
    "        recall = recall_score(actual_labels_decoded, y_pred, average='weighted')\n",
    "        f1 = f1_score(actual_labels_decoded, y_pred, average='weighted')\n",
    "\n",
    "        print(f'Test Accuracy: {accuracy}')\n",
    "        print(f'Weighted Precision: {precision}')\n",
    "        print(f'Weighted Recall: {recall}')\n",
    "        print(f'Weighted F1 Score: {f1}')\n",
    "        \n",
    "        \n",
    "    def plot_training_curves(self):\n",
    "        plt.figure(figsize=(10, 4))\n",
    "        \n",
    "        plt.subplot(1, 2, 1)\n",
    "        plt.plot(self.history.history['loss'], label='Train Loss')\n",
    "        plt.plot(self.history.history['val_loss'], label='Validation Loss')\n",
    "        plt.title('Training and Validation Loss')\n",
    "        plt.legend()\n",
    "        \n",
    "        plt.subplot(1, 2, 2)\n",
    "        plt.plot(self.history.history['accuracy'], label='Train Accuracy')\n",
    "        plt.plot(self.history.history['val_accuracy'], label='Validation Accuracy')\n",
    "        plt.title('Training and Validation Accuracy')\n",
    "        plt.legend()\n",
    "\n",
    "        plt.tight_layout()\n",
    "        plt.show()\n",
    "    \n",
    "    def evaluate(self, y_pred, actual_labels):\n",
    "        actual_labels_decoded = np.argmax(actual_labels, axis=1)\n",
    "        \n",
    "        self.plot_confusion_matrix(actual_labels_decoded, y_pred)\n",
    "        self.print_classification_report(actual_labels_decoded, y_pred)\n",
    "        self.print_accuracy_metrics(actual_labels_decoded, y_pred)\n",
    "        self.plot_training_curves()\n",
    "    "
   ]
  },
  {
   "cell_type": "markdown",
   "id": "c795ec2b",
   "metadata": {
    "papermill": {
     "duration": 0.016046,
     "end_time": "2023-08-08T19:53:34.392171",
     "exception": false,
     "start_time": "2023-08-08T19:53:34.376125",
     "status": "completed"
    },
    "tags": []
   },
   "source": [
    "### Model 1\n",
    "\n",
    "#### window = 10  |  epoch = 30  |  batch = 64"
   ]
  },
  {
   "cell_type": "markdown",
   "id": "0262df86",
   "metadata": {
    "papermill": {
     "duration": 0.015153,
     "end_time": "2023-08-08T19:53:34.422585",
     "exception": false,
     "start_time": "2023-08-08T19:53:34.407432",
     "status": "completed"
    },
    "tags": []
   },
   "source": [
    "#### Training"
   ]
  },
  {
   "cell_type": "code",
   "execution_count": 21,
   "id": "5a7cb6a6",
   "metadata": {
    "execution": {
     "iopub.execute_input": "2023-08-08T19:53:34.456198Z",
     "iopub.status.busy": "2023-08-08T19:53:34.455717Z",
     "iopub.status.idle": "2023-08-09T05:43:09.791636Z",
     "shell.execute_reply": "2023-08-09T05:43:09.790398Z"
    },
    "papermill": {
     "duration": 35375.356596,
     "end_time": "2023-08-09T05:43:09.794590",
     "exception": false,
     "start_time": "2023-08-08T19:53:34.437994",
     "status": "completed"
    },
    "tags": []
   },
   "outputs": [
    {
     "name": "stdout",
     "output_type": "stream",
     "text": [
      "Epoch 1/100\n",
      "6700/6700 [==============================] - 1017s 152ms/step - loss: 0.1197 - accuracy: 0.9496 - val_loss: 0.1625 - val_accuracy: 0.9370\n",
      "Epoch 2/100\n",
      "6700/6700 [==============================] - 943s 141ms/step - loss: 0.0669 - accuracy: 0.9709 - val_loss: 0.1331 - val_accuracy: 0.9472\n",
      "Epoch 3/100\n",
      "6700/6700 [==============================] - 985s 147ms/step - loss: 0.0590 - accuracy: 0.9743 - val_loss: 0.1388 - val_accuracy: 0.9482\n",
      "Epoch 4/100\n",
      "6700/6700 [==============================] - 925s 138ms/step - loss: 0.0549 - accuracy: 0.9761 - val_loss: 0.1057 - val_accuracy: 0.9544\n",
      "Epoch 5/100\n",
      "6700/6700 [==============================] - 959s 143ms/step - loss: 0.0518 - accuracy: 0.9775 - val_loss: 0.1120 - val_accuracy: 0.9515\n",
      "Epoch 6/100\n",
      "6700/6700 [==============================] - 889s 133ms/step - loss: 0.0500 - accuracy: 0.9783 - val_loss: 0.1103 - val_accuracy: 0.9598\n",
      "Epoch 7/100\n",
      "6700/6700 [==============================] - 929s 139ms/step - loss: 0.0485 - accuracy: 0.9789 - val_loss: 0.1034 - val_accuracy: 0.9557\n",
      "Epoch 8/100\n",
      "6700/6700 [==============================] - 918s 137ms/step - loss: 0.0467 - accuracy: 0.9797 - val_loss: 0.0950 - val_accuracy: 0.9586\n",
      "Epoch 9/100\n",
      "6700/6700 [==============================] - 997s 149ms/step - loss: 0.0453 - accuracy: 0.9804 - val_loss: 0.1085 - val_accuracy: 0.9566\n",
      "Epoch 10/100\n",
      "6700/6700 [==============================] - 892s 133ms/step - loss: 0.0443 - accuracy: 0.9812 - val_loss: 0.0856 - val_accuracy: 0.9599\n",
      "Epoch 11/100\n",
      "6700/6700 [==============================] - 1006s 150ms/step - loss: 0.0428 - accuracy: 0.9817 - val_loss: 0.0945 - val_accuracy: 0.9597\n",
      "Epoch 12/100\n",
      "6700/6700 [==============================] - 1044s 156ms/step - loss: 0.0416 - accuracy: 0.9822 - val_loss: 0.0941 - val_accuracy: 0.9582\n",
      "Epoch 13/100\n",
      "6700/6700 [==============================] - 1008s 150ms/step - loss: 0.0398 - accuracy: 0.9831 - val_loss: 0.0849 - val_accuracy: 0.9632\n",
      "Epoch 14/100\n",
      "6700/6700 [==============================] - 886s 132ms/step - loss: 0.0389 - accuracy: 0.9836 - val_loss: 0.1004 - val_accuracy: 0.9587\n",
      "Epoch 15/100\n",
      "6700/6700 [==============================] - 951s 142ms/step - loss: 0.0384 - accuracy: 0.9837 - val_loss: 0.1047 - val_accuracy: 0.9564\n",
      "Epoch 16/100\n",
      "6700/6700 [==============================] - 883s 132ms/step - loss: 0.0380 - accuracy: 0.9840 - val_loss: 0.0779 - val_accuracy: 0.9667\n",
      "Epoch 17/100\n",
      "6700/6700 [==============================] - 957s 143ms/step - loss: 0.0364 - accuracy: 0.9846 - val_loss: 0.1035 - val_accuracy: 0.9598\n",
      "Epoch 18/100\n",
      "6700/6700 [==============================] - 895s 134ms/step - loss: 0.0362 - accuracy: 0.9848 - val_loss: 0.0881 - val_accuracy: 0.9625\n",
      "Epoch 19/100\n",
      "6700/6700 [==============================] - 867s 129ms/step - loss: 0.0355 - accuracy: 0.9852 - val_loss: 0.0899 - val_accuracy: 0.9597\n",
      "Epoch 20/100\n",
      "6700/6700 [==============================] - 954s 142ms/step - loss: 0.0351 - accuracy: 0.9854 - val_loss: 0.0744 - val_accuracy: 0.9645\n",
      "Epoch 21/100\n",
      "6700/6700 [==============================] - 924s 138ms/step - loss: 0.0342 - accuracy: 0.9857 - val_loss: 0.0847 - val_accuracy: 0.9659\n",
      "Epoch 22/100\n",
      "6700/6700 [==============================] - 930s 139ms/step - loss: 0.0346 - accuracy: 0.9857 - val_loss: 0.0979 - val_accuracy: 0.9617\n",
      "Epoch 23/100\n",
      "6700/6700 [==============================] - 1045s 156ms/step - loss: 0.0332 - accuracy: 0.9859 - val_loss: 0.0838 - val_accuracy: 0.9629\n",
      "Epoch 24/100\n",
      "6700/6700 [==============================] - 888s 133ms/step - loss: 0.0335 - accuracy: 0.9860 - val_loss: 0.0736 - val_accuracy: 0.9695\n",
      "Epoch 25/100\n",
      "6700/6700 [==============================] - 870s 130ms/step - loss: 0.0322 - accuracy: 0.9864 - val_loss: 0.0736 - val_accuracy: 0.9688\n",
      "Epoch 26/100\n",
      "6700/6700 [==============================] - 994s 148ms/step - loss: 0.0318 - accuracy: 0.9868 - val_loss: 0.0945 - val_accuracy: 0.9628\n",
      "Epoch 27/100\n",
      "6700/6700 [==============================] - 964s 144ms/step - loss: 0.0314 - accuracy: 0.9867 - val_loss: 0.0686 - val_accuracy: 0.9714\n",
      "Epoch 28/100\n",
      "6700/6700 [==============================] - 860s 128ms/step - loss: 0.0313 - accuracy: 0.9870 - val_loss: 0.0680 - val_accuracy: 0.9687\n",
      "Epoch 29/100\n",
      "6700/6700 [==============================] - 896s 134ms/step - loss: 0.0310 - accuracy: 0.9869 - val_loss: 0.0903 - val_accuracy: 0.9613\n",
      "Epoch 30/100\n",
      "6700/6700 [==============================] - 892s 133ms/step - loss: 0.0306 - accuracy: 0.9871 - val_loss: 0.0788 - val_accuracy: 0.9667\n",
      "Epoch 31/100\n",
      "6700/6700 [==============================] - 902s 135ms/step - loss: 0.0298 - accuracy: 0.9877 - val_loss: 0.0873 - val_accuracy: 0.9665\n",
      "Epoch 32/100\n",
      "6700/6700 [==============================] - 885s 132ms/step - loss: 0.0299 - accuracy: 0.9877 - val_loss: 0.0852 - val_accuracy: 0.9674\n",
      "Epoch 33/100\n",
      "6700/6700 [==============================] - 954s 142ms/step - loss: 0.0290 - accuracy: 0.9879 - val_loss: 0.0901 - val_accuracy: 0.9662\n",
      "Epoch 34/100\n",
      "6700/6700 [==============================] - 915s 137ms/step - loss: 0.0290 - accuracy: 0.9879 - val_loss: 0.0854 - val_accuracy: 0.9657\n",
      "Epoch 35/100\n",
      "6700/6700 [==============================] - 874s 130ms/step - loss: 0.0289 - accuracy: 0.9880 - val_loss: 0.0782 - val_accuracy: 0.9687\n",
      "Epoch 36/100\n",
      "6700/6700 [==============================] - 923s 138ms/step - loss: 0.0284 - accuracy: 0.9881 - val_loss: 0.0840 - val_accuracy: 0.9693\n",
      "Epoch 37/100\n",
      "6700/6700 [==============================] - 873s 130ms/step - loss: 0.0281 - accuracy: 0.9884 - val_loss: 0.0879 - val_accuracy: 0.9658\n",
      "Epoch 38/100\n",
      "6700/6700 [==============================] - ETA: 0s - loss: 0.0277 - accuracy: 0.9887Restoring model weights from the end of the best epoch: 28.\n",
      "6700/6700 [==============================] - 866s 129ms/step - loss: 0.0277 - accuracy: 0.9887 - val_loss: 0.0897 - val_accuracy: 0.9667\n",
      "Epoch 38: early stopping\n"
     ]
    }
   ],
   "source": [
    "model1 = LSTMClassifier(train_data, test_data,val_data, window_size=10,epoch=100,batch=32,verbose=1)\n",
    "model1.fit()"
   ]
  },
  {
   "cell_type": "markdown",
   "id": "d843faae",
   "metadata": {
    "papermill": {
     "duration": 24.40854,
     "end_time": "2023-08-09T05:44:00.596379",
     "exception": false,
     "start_time": "2023-08-09T05:43:36.187839",
     "status": "completed"
    },
    "tags": []
   },
   "source": [
    "#### Predictions"
   ]
  },
  {
   "cell_type": "code",
   "execution_count": 22,
   "id": "43721313",
   "metadata": {
    "execution": {
     "iopub.execute_input": "2023-08-09T05:44:49.571453Z",
     "iopub.status.busy": "2023-08-09T05:44:49.568788Z",
     "iopub.status.idle": "2023-08-09T05:48:12.650806Z",
     "shell.execute_reply": "2023-08-09T05:48:12.649342Z"
    },
    "papermill": {
     "duration": 227.408981,
     "end_time": "2023-08-09T05:48:12.653557",
     "exception": false,
     "start_time": "2023-08-09T05:44:25.244576",
     "status": "completed"
    },
    "tags": []
   },
   "outputs": [
    {
     "name": "stdout",
     "output_type": "stream",
     "text": [
      "4323/4323 [==============================] - 194s 45ms/step\n",
      "138323 138323\n"
     ]
    }
   ],
   "source": [
    "y_pred1, actual_labels1 = model1.predict(test_data)"
   ]
  },
  {
   "cell_type": "markdown",
   "id": "326b95f7",
   "metadata": {
    "papermill": {
     "duration": 24.762505,
     "end_time": "2023-08-09T05:49:02.538224",
     "exception": false,
     "start_time": "2023-08-09T05:48:37.775719",
     "status": "completed"
    },
    "tags": []
   },
   "source": [
    "#### Evaluate Model"
   ]
  },
  {
   "cell_type": "code",
   "execution_count": 23,
   "id": "55c00a50",
   "metadata": {
    "execution": {
     "iopub.execute_input": "2023-08-09T05:49:51.965457Z",
     "iopub.status.busy": "2023-08-09T05:49:51.965032Z",
     "iopub.status.idle": "2023-08-09T05:49:53.406531Z",
     "shell.execute_reply": "2023-08-09T05:49:53.405455Z"
    },
    "papermill": {
     "duration": 26.158036,
     "end_time": "2023-08-09T05:49:53.409557",
     "exception": false,
     "start_time": "2023-08-09T05:49:27.251521",
     "status": "completed"
    },
    "tags": []
   },
   "outputs": [
    {
     "data": {
      "image/png": "[encoded data removed]",
      "text/plain": [
       "<Figure size 1000x600 with 2 Axes>"
      ]
     },
     "metadata": {},
     "output_type": "display_data"
    },
    {
     "name": "stdout",
     "output_type": "stream",
     "text": [
      "Classification Report:\n",
      "              precision    recall  f1-score   support\n",
      "\n",
      "           0       1.00      0.97      0.98     37621\n",
      "           1       0.99      0.98      0.99     36680\n",
      "           2       0.95      0.99      0.97     30258\n",
      "           3       0.99      0.99      0.99     33764\n",
      "\n",
      "    accuracy                           0.98    138323\n",
      "   macro avg       0.98      0.98      0.98    138323\n",
      "weighted avg       0.98      0.98      0.98    138323\n",
      "\n",
      "Test Accuracy: 0.9823022924604007\n",
      "Weighted Precision: 0.9827001938153408\n",
      "Weighted Recall: 0.9823022924604007\n",
      "Weighted F1 Score: 0.9823658385600094\n"
     ]
    },
    {
     "data": {
      "image/png": "[encoded data removed]",
      "text/plain": [
       "<Figure size 1000x400 with 2 Axes>"
      ]
     },
     "metadata": {},
     "output_type": "display_data"
    }
   ],
   "source": [
    "model1.evaluate(y_pred1, actual_labels1)"
   ]
  }
 ],
 "metadata": {
  "kernelspec": {
   "display_name": "Python 3",
   "language": "python",
   "name": "python3"
  },
  "language_info": {
   "codemirror_mode": {
    "name": "ipython",
    "version": 3
   },
   "file_extension": ".py",
   "mimetype": "text/x-python",
   "name": "python",
   "nbconvert_exporter": "python",
   "pygments_lexer": "ipython3",
   "version": "3.10.12"
  },
  "papermill": {
   "default_parameters": {},
   "duration": 36098.271507,
   "end_time": "2023-08-09T05:50:20.741992",
   "environment_variables": {},
   "exception": null,
   "input_path": "__notebook__.ipynb",
   "output_path": "__notebook__.ipynb",
   "parameters": {},
   "start_time": "2023-08-08T19:48:42.470485",
   "version": "2.4.0"
  }
 },
 "nbformat": 4,
 "nbformat_minor": 5
}
